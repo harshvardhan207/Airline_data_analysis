{
 "cells": [
  {
   "cell_type": "code",
   "execution_count": 1,
   "id": "4cc55714",
   "metadata": {},
   "outputs": [],
   "source": [
    "import pandas as pd \n",
    "import numpy as np \n",
    "from matplotlib import pyplot as plt\n",
    "import seaborn as sns\n",
    "import matplotlib as mpl"
   ]
  },
  {
   "cell_type": "code",
   "execution_count": 2,
   "id": "8ec5dd39",
   "metadata": {},
   "outputs": [],
   "source": [
    "df = pd.read_csv(\"Data/Airline Dataset Updated - v2.csv\")\n"
   ]
  },
  {
   "cell_type": "code",
   "execution_count": null,
   "id": "4481faac",
   "metadata": {},
   "outputs": [],
   "source": []
  },
  {
   "cell_type": "markdown",
   "id": "e1d597f9",
   "metadata": {},
   "source": [
    "### 1. Exploratory Data Analysis"
   ]
  },
  {
   "cell_type": "code",
   "execution_count": 3,
   "id": "3abee1e9",
   "metadata": {
    "scrolled": false
   },
   "outputs": [
    {
     "data": {
      "text/plain": [
       "Passenger ID            0\n",
       "First Name              0\n",
       "Last Name               0\n",
       "Gender                  0\n",
       "Age                     0\n",
       "Nationality             0\n",
       "Airport Name            0\n",
       "Airport Country Code    0\n",
       "Country Name            0\n",
       "Airport Continent       0\n",
       "Continents              0\n",
       "Departure Date          0\n",
       "Arrival Airport         0\n",
       "Pilot Name              0\n",
       "Flight Status           0\n",
       "dtype: int64"
      ]
     },
     "execution_count": 3,
     "metadata": {},
     "output_type": "execute_result"
    }
   ],
   "source": [
    "df.isnull().sum()"
   ]
  },
  {
   "cell_type": "code",
   "execution_count": 4,
   "id": "3a2faa5a",
   "metadata": {},
   "outputs": [
    {
     "data": {
      "text/html": [
       "<div>\n",
       "<style scoped>\n",
       "    .dataframe tbody tr th:only-of-type {\n",
       "        vertical-align: middle;\n",
       "    }\n",
       "\n",
       "    .dataframe tbody tr th {\n",
       "        vertical-align: top;\n",
       "    }\n",
       "\n",
       "    .dataframe thead th {\n",
       "        text-align: right;\n",
       "    }\n",
       "</style>\n",
       "<table border=\"1\" class=\"dataframe\">\n",
       "  <thead>\n",
       "    <tr style=\"text-align: right;\">\n",
       "      <th></th>\n",
       "      <th>Passenger ID</th>\n",
       "      <th>First Name</th>\n",
       "      <th>Last Name</th>\n",
       "      <th>Gender</th>\n",
       "      <th>Age</th>\n",
       "      <th>Nationality</th>\n",
       "      <th>Airport Name</th>\n",
       "      <th>Airport Country Code</th>\n",
       "      <th>Country Name</th>\n",
       "      <th>Airport Continent</th>\n",
       "      <th>Continents</th>\n",
       "      <th>Departure Date</th>\n",
       "      <th>Arrival Airport</th>\n",
       "      <th>Pilot Name</th>\n",
       "      <th>Flight Status</th>\n",
       "    </tr>\n",
       "  </thead>\n",
       "  <tbody>\n",
       "    <tr>\n",
       "      <th>0</th>\n",
       "      <td>ABVWIg</td>\n",
       "      <td>Edithe</td>\n",
       "      <td>Leggis</td>\n",
       "      <td>Female</td>\n",
       "      <td>62</td>\n",
       "      <td>Japan</td>\n",
       "      <td>Coldfoot Airport</td>\n",
       "      <td>US</td>\n",
       "      <td>United States</td>\n",
       "      <td>NAM</td>\n",
       "      <td>North America</td>\n",
       "      <td>6/28/2022</td>\n",
       "      <td>CXF</td>\n",
       "      <td>Fransisco Hazeldine</td>\n",
       "      <td>On Time</td>\n",
       "    </tr>\n",
       "    <tr>\n",
       "      <th>1</th>\n",
       "      <td>jkXXAX</td>\n",
       "      <td>Elwood</td>\n",
       "      <td>Catt</td>\n",
       "      <td>Male</td>\n",
       "      <td>62</td>\n",
       "      <td>Nicaragua</td>\n",
       "      <td>Kugluktuk Airport</td>\n",
       "      <td>CA</td>\n",
       "      <td>Canada</td>\n",
       "      <td>NAM</td>\n",
       "      <td>North America</td>\n",
       "      <td>12/26/2022</td>\n",
       "      <td>YCO</td>\n",
       "      <td>Marla Parsonage</td>\n",
       "      <td>On Time</td>\n",
       "    </tr>\n",
       "    <tr>\n",
       "      <th>2</th>\n",
       "      <td>CdUz2g</td>\n",
       "      <td>Darby</td>\n",
       "      <td>Felgate</td>\n",
       "      <td>Male</td>\n",
       "      <td>67</td>\n",
       "      <td>Russia</td>\n",
       "      <td>Grenoble-Isère Airport</td>\n",
       "      <td>FR</td>\n",
       "      <td>France</td>\n",
       "      <td>EU</td>\n",
       "      <td>Europe</td>\n",
       "      <td>1/18/2022</td>\n",
       "      <td>GNB</td>\n",
       "      <td>Rhonda Amber</td>\n",
       "      <td>On Time</td>\n",
       "    </tr>\n",
       "    <tr>\n",
       "      <th>3</th>\n",
       "      <td>BRS38V</td>\n",
       "      <td>Dominica</td>\n",
       "      <td>Pyle</td>\n",
       "      <td>Female</td>\n",
       "      <td>71</td>\n",
       "      <td>China</td>\n",
       "      <td>Ottawa / Gatineau Airport</td>\n",
       "      <td>CA</td>\n",
       "      <td>Canada</td>\n",
       "      <td>NAM</td>\n",
       "      <td>North America</td>\n",
       "      <td>9/16/2022</td>\n",
       "      <td>YND</td>\n",
       "      <td>Kacie Commucci</td>\n",
       "      <td>Delayed</td>\n",
       "    </tr>\n",
       "    <tr>\n",
       "      <th>4</th>\n",
       "      <td>9kvTLo</td>\n",
       "      <td>Bay</td>\n",
       "      <td>Pencost</td>\n",
       "      <td>Male</td>\n",
       "      <td>21</td>\n",
       "      <td>China</td>\n",
       "      <td>Gillespie Field</td>\n",
       "      <td>US</td>\n",
       "      <td>United States</td>\n",
       "      <td>NAM</td>\n",
       "      <td>North America</td>\n",
       "      <td>2/25/2022</td>\n",
       "      <td>SEE</td>\n",
       "      <td>Ebonee Tree</td>\n",
       "      <td>On Time</td>\n",
       "    </tr>\n",
       "    <tr>\n",
       "      <th>5</th>\n",
       "      <td>nMJKVh</td>\n",
       "      <td>Lora</td>\n",
       "      <td>Durbann</td>\n",
       "      <td>Female</td>\n",
       "      <td>55</td>\n",
       "      <td>Brazil</td>\n",
       "      <td>Coronel Horácio de Mattos Airport</td>\n",
       "      <td>BR</td>\n",
       "      <td>Brazil</td>\n",
       "      <td>SAM</td>\n",
       "      <td>South America</td>\n",
       "      <td>06-10-2022</td>\n",
       "      <td>LEC</td>\n",
       "      <td>Inglis Dolley</td>\n",
       "      <td>On Time</td>\n",
       "    </tr>\n",
       "  </tbody>\n",
       "</table>\n",
       "</div>"
      ],
      "text/plain": [
       "  Passenger ID First Name Last Name  Gender  Age Nationality   \n",
       "0       ABVWIg     Edithe    Leggis  Female   62       Japan  \\\n",
       "1       jkXXAX     Elwood      Catt    Male   62   Nicaragua   \n",
       "2       CdUz2g      Darby   Felgate    Male   67      Russia   \n",
       "3       BRS38V   Dominica      Pyle  Female   71       China   \n",
       "4       9kvTLo        Bay   Pencost    Male   21       China   \n",
       "5       nMJKVh       Lora   Durbann  Female   55      Brazil   \n",
       "\n",
       "                        Airport Name Airport Country Code   Country Name   \n",
       "0                   Coldfoot Airport                   US  United States  \\\n",
       "1                  Kugluktuk Airport                   CA         Canada   \n",
       "2             Grenoble-Isère Airport                   FR         France   \n",
       "3          Ottawa / Gatineau Airport                   CA         Canada   \n",
       "4                    Gillespie Field                   US  United States   \n",
       "5  Coronel Horácio de Mattos Airport                   BR         Brazil   \n",
       "\n",
       "  Airport Continent     Continents Departure Date Arrival Airport   \n",
       "0               NAM  North America      6/28/2022             CXF  \\\n",
       "1               NAM  North America     12/26/2022             YCO   \n",
       "2                EU         Europe      1/18/2022             GNB   \n",
       "3               NAM  North America      9/16/2022             YND   \n",
       "4               NAM  North America      2/25/2022             SEE   \n",
       "5               SAM  South America     06-10-2022             LEC   \n",
       "\n",
       "            Pilot Name Flight Status  \n",
       "0  Fransisco Hazeldine       On Time  \n",
       "1      Marla Parsonage       On Time  \n",
       "2         Rhonda Amber       On Time  \n",
       "3       Kacie Commucci       Delayed  \n",
       "4          Ebonee Tree       On Time  \n",
       "5        Inglis Dolley       On Time  "
      ]
     },
     "execution_count": 4,
     "metadata": {},
     "output_type": "execute_result"
    }
   ],
   "source": [
    "df.head(6)"
   ]
  },
  {
   "cell_type": "code",
   "execution_count": 5,
   "id": "61ff7fac",
   "metadata": {},
   "outputs": [],
   "source": [
    "def date_parser(date_str): \n",
    "    try:\n",
    "        return pd.to_datetime (date_str, format = '%m/%d/%Y')\n",
    "    except ValueError:\n",
    "        return pd.to_datetime (date_str, format = '%m-%d-%Y', errors = 'coerce')"
   ]
  },
  {
   "cell_type": "code",
   "execution_count": 6,
   "id": "2a7de851",
   "metadata": {},
   "outputs": [],
   "source": [
    "df['Departure Date'] = df['Departure Date'].apply(date_parser)"
   ]
  },
  {
   "cell_type": "code",
   "execution_count": 7,
   "id": "9fc83a8a",
   "metadata": {},
   "outputs": [],
   "source": [
    "cond_1 = df['Age'] > 60 "
   ]
  },
  {
   "cell_type": "code",
   "execution_count": 8,
   "id": "412757b1",
   "metadata": {},
   "outputs": [],
   "source": [
    "cond_2 = (df['Flight Status'] == 'On Time')"
   ]
  },
  {
   "cell_type": "code",
   "execution_count": 9,
   "id": "912ac0b0",
   "metadata": {},
   "outputs": [],
   "source": [
    "cond_3 = (df['Flight Status'] == 'Delayed')"
   ]
  },
  {
   "cell_type": "code",
   "execution_count": 10,
   "id": "c92d9d61",
   "metadata": {},
   "outputs": [],
   "source": [
    "cond_4 = (df['Flight Status'] == 'Cancelled')"
   ]
  },
  {
   "cell_type": "code",
   "execution_count": 11,
   "id": "bffd735a",
   "metadata": {},
   "outputs": [],
   "source": [
    "cond_month = (df['Departure Date'].dt.month )"
   ]
  },
  {
   "cell_type": "code",
   "execution_count": 12,
   "id": "2c5942b4",
   "metadata": {},
   "outputs": [],
   "source": [
    "cond_6 = (df['Age'] <25 )"
   ]
  },
  {
   "cell_type": "code",
   "execution_count": 13,
   "id": "dd9d43eb",
   "metadata": {
    "scrolled": true
   },
   "outputs": [],
   "source": [
    "cond_7 = (25 <= df['Age']) & (df['Age'] <= 60 )"
   ]
  },
  {
   "cell_type": "code",
   "execution_count": 14,
   "id": "b345fea7",
   "metadata": {},
   "outputs": [],
   "source": [
    "cond_8 = (df['Age'] > 60 )"
   ]
  },
  {
   "cell_type": "code",
   "execution_count": 15,
   "id": "4b06f4b8",
   "metadata": {},
   "outputs": [
    {
     "data": {
      "text/html": [
       "<div>\n",
       "<style scoped>\n",
       "    .dataframe tbody tr th:only-of-type {\n",
       "        vertical-align: middle;\n",
       "    }\n",
       "\n",
       "    .dataframe tbody tr th {\n",
       "        vertical-align: top;\n",
       "    }\n",
       "\n",
       "    .dataframe thead th {\n",
       "        text-align: right;\n",
       "    }\n",
       "</style>\n",
       "<table border=\"1\" class=\"dataframe\">\n",
       "  <thead>\n",
       "    <tr style=\"text-align: right;\">\n",
       "      <th></th>\n",
       "      <th>Passenger ID</th>\n",
       "      <th>First Name</th>\n",
       "      <th>Last Name</th>\n",
       "      <th>Gender</th>\n",
       "      <th>Age</th>\n",
       "      <th>Nationality</th>\n",
       "      <th>Airport Name</th>\n",
       "      <th>Airport Country Code</th>\n",
       "      <th>Country Name</th>\n",
       "      <th>Airport Continent</th>\n",
       "      <th>Continents</th>\n",
       "      <th>Departure Date</th>\n",
       "      <th>Arrival Airport</th>\n",
       "      <th>Pilot Name</th>\n",
       "      <th>Flight Status</th>\n",
       "    </tr>\n",
       "  </thead>\n",
       "  <tbody>\n",
       "    <tr>\n",
       "      <th>0</th>\n",
       "      <td>ABVWIg</td>\n",
       "      <td>Edithe</td>\n",
       "      <td>Leggis</td>\n",
       "      <td>Female</td>\n",
       "      <td>62</td>\n",
       "      <td>Japan</td>\n",
       "      <td>Coldfoot Airport</td>\n",
       "      <td>US</td>\n",
       "      <td>United States</td>\n",
       "      <td>NAM</td>\n",
       "      <td>North America</td>\n",
       "      <td>2022-06-28</td>\n",
       "      <td>CXF</td>\n",
       "      <td>Fransisco Hazeldine</td>\n",
       "      <td>On Time</td>\n",
       "    </tr>\n",
       "    <tr>\n",
       "      <th>1</th>\n",
       "      <td>jkXXAX</td>\n",
       "      <td>Elwood</td>\n",
       "      <td>Catt</td>\n",
       "      <td>Male</td>\n",
       "      <td>62</td>\n",
       "      <td>Nicaragua</td>\n",
       "      <td>Kugluktuk Airport</td>\n",
       "      <td>CA</td>\n",
       "      <td>Canada</td>\n",
       "      <td>NAM</td>\n",
       "      <td>North America</td>\n",
       "      <td>2022-12-26</td>\n",
       "      <td>YCO</td>\n",
       "      <td>Marla Parsonage</td>\n",
       "      <td>On Time</td>\n",
       "    </tr>\n",
       "    <tr>\n",
       "      <th>2</th>\n",
       "      <td>CdUz2g</td>\n",
       "      <td>Darby</td>\n",
       "      <td>Felgate</td>\n",
       "      <td>Male</td>\n",
       "      <td>67</td>\n",
       "      <td>Russia</td>\n",
       "      <td>Grenoble-Isère Airport</td>\n",
       "      <td>FR</td>\n",
       "      <td>France</td>\n",
       "      <td>EU</td>\n",
       "      <td>Europe</td>\n",
       "      <td>2022-01-18</td>\n",
       "      <td>GNB</td>\n",
       "      <td>Rhonda Amber</td>\n",
       "      <td>On Time</td>\n",
       "    </tr>\n",
       "    <tr>\n",
       "      <th>3</th>\n",
       "      <td>BRS38V</td>\n",
       "      <td>Dominica</td>\n",
       "      <td>Pyle</td>\n",
       "      <td>Female</td>\n",
       "      <td>71</td>\n",
       "      <td>China</td>\n",
       "      <td>Ottawa / Gatineau Airport</td>\n",
       "      <td>CA</td>\n",
       "      <td>Canada</td>\n",
       "      <td>NAM</td>\n",
       "      <td>North America</td>\n",
       "      <td>2022-09-16</td>\n",
       "      <td>YND</td>\n",
       "      <td>Kacie Commucci</td>\n",
       "      <td>Delayed</td>\n",
       "    </tr>\n",
       "    <tr>\n",
       "      <th>4</th>\n",
       "      <td>9kvTLo</td>\n",
       "      <td>Bay</td>\n",
       "      <td>Pencost</td>\n",
       "      <td>Male</td>\n",
       "      <td>21</td>\n",
       "      <td>China</td>\n",
       "      <td>Gillespie Field</td>\n",
       "      <td>US</td>\n",
       "      <td>United States</td>\n",
       "      <td>NAM</td>\n",
       "      <td>North America</td>\n",
       "      <td>2022-02-25</td>\n",
       "      <td>SEE</td>\n",
       "      <td>Ebonee Tree</td>\n",
       "      <td>On Time</td>\n",
       "    </tr>\n",
       "    <tr>\n",
       "      <th>...</th>\n",
       "      <td>...</td>\n",
       "      <td>...</td>\n",
       "      <td>...</td>\n",
       "      <td>...</td>\n",
       "      <td>...</td>\n",
       "      <td>...</td>\n",
       "      <td>...</td>\n",
       "      <td>...</td>\n",
       "      <td>...</td>\n",
       "      <td>...</td>\n",
       "      <td>...</td>\n",
       "      <td>...</td>\n",
       "      <td>...</td>\n",
       "      <td>...</td>\n",
       "      <td>...</td>\n",
       "    </tr>\n",
       "    <tr>\n",
       "      <th>98614</th>\n",
       "      <td>hnGQ62</td>\n",
       "      <td>Gareth</td>\n",
       "      <td>Mugford</td>\n",
       "      <td>Male</td>\n",
       "      <td>85</td>\n",
       "      <td>China</td>\n",
       "      <td>Hasvik Airport</td>\n",
       "      <td>NO</td>\n",
       "      <td>Norway</td>\n",
       "      <td>EU</td>\n",
       "      <td>Europe</td>\n",
       "      <td>2022-12-11</td>\n",
       "      <td>HAA</td>\n",
       "      <td>Pammie Kingscote</td>\n",
       "      <td>Cancelled</td>\n",
       "    </tr>\n",
       "    <tr>\n",
       "      <th>98615</th>\n",
       "      <td>2omEzh</td>\n",
       "      <td>Kasey</td>\n",
       "      <td>Benedict</td>\n",
       "      <td>Female</td>\n",
       "      <td>19</td>\n",
       "      <td>Russia</td>\n",
       "      <td>Ampampamena Airport</td>\n",
       "      <td>MG</td>\n",
       "      <td>Madagascar</td>\n",
       "      <td>AF</td>\n",
       "      <td>Africa</td>\n",
       "      <td>2022-10-30</td>\n",
       "      <td>IVA</td>\n",
       "      <td>Dorice Lochran</td>\n",
       "      <td>Cancelled</td>\n",
       "    </tr>\n",
       "    <tr>\n",
       "      <th>98616</th>\n",
       "      <td>VUPiVG</td>\n",
       "      <td>Darrin</td>\n",
       "      <td>Lucken</td>\n",
       "      <td>Male</td>\n",
       "      <td>65</td>\n",
       "      <td>Indonesia</td>\n",
       "      <td>Albacete-Los Llanos Airport</td>\n",
       "      <td>ES</td>\n",
       "      <td>Spain</td>\n",
       "      <td>EU</td>\n",
       "      <td>Europe</td>\n",
       "      <td>2022-09-10</td>\n",
       "      <td>ABC</td>\n",
       "      <td>Gearalt Main</td>\n",
       "      <td>On Time</td>\n",
       "    </tr>\n",
       "    <tr>\n",
       "      <th>98617</th>\n",
       "      <td>E47NtS</td>\n",
       "      <td>Gayle</td>\n",
       "      <td>Lievesley</td>\n",
       "      <td>Female</td>\n",
       "      <td>34</td>\n",
       "      <td>China</td>\n",
       "      <td>Gagnoa Airport</td>\n",
       "      <td>CI</td>\n",
       "      <td>Côte d'Ivoire</td>\n",
       "      <td>AF</td>\n",
       "      <td>Africa</td>\n",
       "      <td>2022-10-26</td>\n",
       "      <td>GGN</td>\n",
       "      <td>Judon Chasle</td>\n",
       "      <td>Cancelled</td>\n",
       "    </tr>\n",
       "    <tr>\n",
       "      <th>98618</th>\n",
       "      <td>8JYEcz</td>\n",
       "      <td>Wilhelmine</td>\n",
       "      <td>Touret</td>\n",
       "      <td>Female</td>\n",
       "      <td>10</td>\n",
       "      <td>Poland</td>\n",
       "      <td>Yoshkar-Ola Airport</td>\n",
       "      <td>RU</td>\n",
       "      <td>Russian Federation</td>\n",
       "      <td>EU</td>\n",
       "      <td>Europe</td>\n",
       "      <td>2022-04-16</td>\n",
       "      <td>JOK</td>\n",
       "      <td>Auguste Tindley</td>\n",
       "      <td>Delayed</td>\n",
       "    </tr>\n",
       "  </tbody>\n",
       "</table>\n",
       "<p>98619 rows × 15 columns</p>\n",
       "</div>"
      ],
      "text/plain": [
       "      Passenger ID  First Name  Last Name  Gender  Age Nationality   \n",
       "0           ABVWIg      Edithe     Leggis  Female   62       Japan  \\\n",
       "1           jkXXAX      Elwood       Catt    Male   62   Nicaragua   \n",
       "2           CdUz2g       Darby    Felgate    Male   67      Russia   \n",
       "3           BRS38V    Dominica       Pyle  Female   71       China   \n",
       "4           9kvTLo         Bay    Pencost    Male   21       China   \n",
       "...            ...         ...        ...     ...  ...         ...   \n",
       "98614       hnGQ62      Gareth    Mugford    Male   85       China   \n",
       "98615       2omEzh       Kasey   Benedict  Female   19      Russia   \n",
       "98616       VUPiVG      Darrin     Lucken    Male   65   Indonesia   \n",
       "98617       E47NtS       Gayle  Lievesley  Female   34       China   \n",
       "98618       8JYEcz  Wilhelmine     Touret  Female   10      Poland   \n",
       "\n",
       "                      Airport Name Airport Country Code        Country Name   \n",
       "0                 Coldfoot Airport                   US       United States  \\\n",
       "1                Kugluktuk Airport                   CA              Canada   \n",
       "2           Grenoble-Isère Airport                   FR              France   \n",
       "3        Ottawa / Gatineau Airport                   CA              Canada   \n",
       "4                  Gillespie Field                   US       United States   \n",
       "...                            ...                  ...                 ...   \n",
       "98614               Hasvik Airport                   NO              Norway   \n",
       "98615          Ampampamena Airport                   MG          Madagascar   \n",
       "98616  Albacete-Los Llanos Airport                   ES               Spain   \n",
       "98617               Gagnoa Airport                   CI       Côte d'Ivoire   \n",
       "98618          Yoshkar-Ola Airport                   RU  Russian Federation   \n",
       "\n",
       "      Airport Continent     Continents Departure Date Arrival Airport   \n",
       "0                   NAM  North America     2022-06-28             CXF  \\\n",
       "1                   NAM  North America     2022-12-26             YCO   \n",
       "2                    EU         Europe     2022-01-18             GNB   \n",
       "3                   NAM  North America     2022-09-16             YND   \n",
       "4                   NAM  North America     2022-02-25             SEE   \n",
       "...                 ...            ...            ...             ...   \n",
       "98614                EU         Europe     2022-12-11             HAA   \n",
       "98615                AF         Africa     2022-10-30             IVA   \n",
       "98616                EU         Europe     2022-09-10             ABC   \n",
       "98617                AF         Africa     2022-10-26             GGN   \n",
       "98618                EU         Europe     2022-04-16             JOK   \n",
       "\n",
       "                Pilot Name Flight Status  \n",
       "0      Fransisco Hazeldine       On Time  \n",
       "1          Marla Parsonage       On Time  \n",
       "2             Rhonda Amber       On Time  \n",
       "3           Kacie Commucci       Delayed  \n",
       "4              Ebonee Tree       On Time  \n",
       "...                    ...           ...  \n",
       "98614     Pammie Kingscote     Cancelled  \n",
       "98615       Dorice Lochran     Cancelled  \n",
       "98616         Gearalt Main       On Time  \n",
       "98617         Judon Chasle     Cancelled  \n",
       "98618      Auguste Tindley       Delayed  \n",
       "\n",
       "[98619 rows x 15 columns]"
      ]
     },
     "execution_count": 15,
     "metadata": {},
     "output_type": "execute_result"
    }
   ],
   "source": [
    "df"
   ]
  },
  {
   "cell_type": "markdown",
   "id": "43bec734",
   "metadata": {},
   "source": [
    "### Number of passengers who's flights are either on time, delayed or cancelled."
   ]
  },
  {
   "cell_type": "code",
   "execution_count": 16,
   "id": "50994fd2",
   "metadata": {},
   "outputs": [
    {
     "name": "stdout",
     "output_type": "stream",
     "text": [
      "Number of flights on time - 32846\n",
      "Number of flights delayed - 32831\n",
      "Number of flights cancelled - 32942\n"
     ]
    }
   ],
   "source": [
    "var_1 = df['Passenger ID'].loc[cond_2].count()\n",
    "print(\"Number of flights on time -\" , var_1)\n",
    "\n",
    "var_2 = df['Passenger ID'].loc[cond_3].count()\n",
    "print(\"Number of flights delayed -\" , var_2)\n",
    "\n",
    "var_3 = df['Passenger ID'].loc[cond_4].count()\n",
    "print(\"Number of flights cancelled -\" , var_3)\n"
   ]
  },
  {
   "cell_type": "markdown",
   "id": "11a0f982",
   "metadata": {},
   "source": [
    "### Age wise distribution of on time flights"
   ]
  },
  {
   "cell_type": "code",
   "execution_count": 17,
   "id": "12a0a639",
   "metadata": {},
   "outputs": [
    {
     "name": "stdout",
     "output_type": "stream",
     "text": [
      "Number of on time flights with passengers of age less than 25 -> 8772\n",
      "Number of on time flights with passengers of age between 25 to 60 -> 13194\n",
      "Number of on time flights with passengers of age more than 60 -> 10880\n"
     ]
    }
   ],
   "source": [
    "var_4 = df['Passenger ID'].loc[cond_2 & cond_6 ].count()\n",
    "print(\"Number of on time flights with passengers of age less than 25 ->\" , var_4)\n",
    "\n",
    "var_5 = df['Passenger ID'].loc[cond_2 & cond_7 ].count()\n",
    "print(\"Number of on time flights with passengers of age between 25 to 60 ->\" , var_5)\n",
    "\n",
    "var_6 = df['Passenger ID'].loc[cond_2 & cond_8 ].count()\n",
    "print(\"Number of on time flights with passengers of age more than 60 ->\" , var_6)"
   ]
  },
  {
   "cell_type": "code",
   "execution_count": 18,
   "id": "cee86f1c",
   "metadata": {
    "scrolled": true
   },
   "outputs": [
    {
     "name": "stdout",
     "output_type": "stream",
     "text": [
      "Number of delayed flights with passengers of age less than 25 -> 8666\n",
      "Number of delayed flights with passengers of age between 25 to 60 -> 13218\n",
      "Number of delayed flights with passengers of age more than 60 -> 10947\n"
     ]
    }
   ],
   "source": [
    "var_7 = df['Passenger ID'].loc[cond_3 & cond_6 ].count()\n",
    "print(\"Number of delayed flights with passengers of age less than 25 ->\" , var_7)\n",
    "\n",
    "var_8 = df['Passenger ID'].loc[cond_3 & cond_7 ].count()\n",
    "print(\"Number of delayed flights with passengers of age between 25 to 60 ->\" , var_8)\n",
    "\n",
    "var_9 = df['Passenger ID'].loc[cond_3 & cond_8 ].count()\n",
    "print(\"Number of delayed flights with passengers of age more than 60 ->\" , var_9)"
   ]
  },
  {
   "cell_type": "code",
   "execution_count": 19,
   "id": "0ded6b5e",
   "metadata": {},
   "outputs": [],
   "source": [
    "df[\"Month\"] = df['Departure Date'].dt.month"
   ]
  },
  {
   "cell_type": "code",
   "execution_count": 20,
   "id": "a0ce9d65",
   "metadata": {},
   "outputs": [
    {
     "data": {
      "text/html": [
       "<div>\n",
       "<style scoped>\n",
       "    .dataframe tbody tr th:only-of-type {\n",
       "        vertical-align: middle;\n",
       "    }\n",
       "\n",
       "    .dataframe tbody tr th {\n",
       "        vertical-align: top;\n",
       "    }\n",
       "\n",
       "    .dataframe thead th {\n",
       "        text-align: right;\n",
       "    }\n",
       "</style>\n",
       "<table border=\"1\" class=\"dataframe\">\n",
       "  <thead>\n",
       "    <tr style=\"text-align: right;\">\n",
       "      <th></th>\n",
       "      <th>Passenger ID</th>\n",
       "      <th>First Name</th>\n",
       "      <th>Last Name</th>\n",
       "      <th>Gender</th>\n",
       "      <th>Age</th>\n",
       "      <th>Nationality</th>\n",
       "      <th>Airport Name</th>\n",
       "      <th>Airport Country Code</th>\n",
       "      <th>Country Name</th>\n",
       "      <th>Airport Continent</th>\n",
       "      <th>Continents</th>\n",
       "      <th>Departure Date</th>\n",
       "      <th>Arrival Airport</th>\n",
       "      <th>Pilot Name</th>\n",
       "      <th>Flight Status</th>\n",
       "      <th>Month</th>\n",
       "    </tr>\n",
       "  </thead>\n",
       "  <tbody>\n",
       "    <tr>\n",
       "      <th>0</th>\n",
       "      <td>ABVWIg</td>\n",
       "      <td>Edithe</td>\n",
       "      <td>Leggis</td>\n",
       "      <td>Female</td>\n",
       "      <td>62</td>\n",
       "      <td>Japan</td>\n",
       "      <td>Coldfoot Airport</td>\n",
       "      <td>US</td>\n",
       "      <td>United States</td>\n",
       "      <td>NAM</td>\n",
       "      <td>North America</td>\n",
       "      <td>2022-06-28</td>\n",
       "      <td>CXF</td>\n",
       "      <td>Fransisco Hazeldine</td>\n",
       "      <td>On Time</td>\n",
       "      <td>6</td>\n",
       "    </tr>\n",
       "    <tr>\n",
       "      <th>1</th>\n",
       "      <td>jkXXAX</td>\n",
       "      <td>Elwood</td>\n",
       "      <td>Catt</td>\n",
       "      <td>Male</td>\n",
       "      <td>62</td>\n",
       "      <td>Nicaragua</td>\n",
       "      <td>Kugluktuk Airport</td>\n",
       "      <td>CA</td>\n",
       "      <td>Canada</td>\n",
       "      <td>NAM</td>\n",
       "      <td>North America</td>\n",
       "      <td>2022-12-26</td>\n",
       "      <td>YCO</td>\n",
       "      <td>Marla Parsonage</td>\n",
       "      <td>On Time</td>\n",
       "      <td>12</td>\n",
       "    </tr>\n",
       "    <tr>\n",
       "      <th>2</th>\n",
       "      <td>CdUz2g</td>\n",
       "      <td>Darby</td>\n",
       "      <td>Felgate</td>\n",
       "      <td>Male</td>\n",
       "      <td>67</td>\n",
       "      <td>Russia</td>\n",
       "      <td>Grenoble-Isère Airport</td>\n",
       "      <td>FR</td>\n",
       "      <td>France</td>\n",
       "      <td>EU</td>\n",
       "      <td>Europe</td>\n",
       "      <td>2022-01-18</td>\n",
       "      <td>GNB</td>\n",
       "      <td>Rhonda Amber</td>\n",
       "      <td>On Time</td>\n",
       "      <td>1</td>\n",
       "    </tr>\n",
       "    <tr>\n",
       "      <th>3</th>\n",
       "      <td>BRS38V</td>\n",
       "      <td>Dominica</td>\n",
       "      <td>Pyle</td>\n",
       "      <td>Female</td>\n",
       "      <td>71</td>\n",
       "      <td>China</td>\n",
       "      <td>Ottawa / Gatineau Airport</td>\n",
       "      <td>CA</td>\n",
       "      <td>Canada</td>\n",
       "      <td>NAM</td>\n",
       "      <td>North America</td>\n",
       "      <td>2022-09-16</td>\n",
       "      <td>YND</td>\n",
       "      <td>Kacie Commucci</td>\n",
       "      <td>Delayed</td>\n",
       "      <td>9</td>\n",
       "    </tr>\n",
       "    <tr>\n",
       "      <th>4</th>\n",
       "      <td>9kvTLo</td>\n",
       "      <td>Bay</td>\n",
       "      <td>Pencost</td>\n",
       "      <td>Male</td>\n",
       "      <td>21</td>\n",
       "      <td>China</td>\n",
       "      <td>Gillespie Field</td>\n",
       "      <td>US</td>\n",
       "      <td>United States</td>\n",
       "      <td>NAM</td>\n",
       "      <td>North America</td>\n",
       "      <td>2022-02-25</td>\n",
       "      <td>SEE</td>\n",
       "      <td>Ebonee Tree</td>\n",
       "      <td>On Time</td>\n",
       "      <td>2</td>\n",
       "    </tr>\n",
       "    <tr>\n",
       "      <th>5</th>\n",
       "      <td>nMJKVh</td>\n",
       "      <td>Lora</td>\n",
       "      <td>Durbann</td>\n",
       "      <td>Female</td>\n",
       "      <td>55</td>\n",
       "      <td>Brazil</td>\n",
       "      <td>Coronel Horácio de Mattos Airport</td>\n",
       "      <td>BR</td>\n",
       "      <td>Brazil</td>\n",
       "      <td>SAM</td>\n",
       "      <td>South America</td>\n",
       "      <td>2022-06-10</td>\n",
       "      <td>LEC</td>\n",
       "      <td>Inglis Dolley</td>\n",
       "      <td>On Time</td>\n",
       "      <td>6</td>\n",
       "    </tr>\n",
       "    <tr>\n",
       "      <th>6</th>\n",
       "      <td>8IPFPE</td>\n",
       "      <td>Rand</td>\n",
       "      <td>Bram</td>\n",
       "      <td>Male</td>\n",
       "      <td>73</td>\n",
       "      <td>Ivory Coast</td>\n",
       "      <td>Duxford Aerodrome</td>\n",
       "      <td>GB</td>\n",
       "      <td>United Kingdom</td>\n",
       "      <td>EU</td>\n",
       "      <td>Europe</td>\n",
       "      <td>2022-10-30</td>\n",
       "      <td>QFO</td>\n",
       "      <td>Stanislas Tiffin</td>\n",
       "      <td>Cancelled</td>\n",
       "      <td>10</td>\n",
       "    </tr>\n",
       "    <tr>\n",
       "      <th>7</th>\n",
       "      <td>pqixbY</td>\n",
       "      <td>Perceval</td>\n",
       "      <td>Dallosso</td>\n",
       "      <td>Male</td>\n",
       "      <td>36</td>\n",
       "      <td>Vietnam</td>\n",
       "      <td>Maestro Wilson Fonseca Airport</td>\n",
       "      <td>BR</td>\n",
       "      <td>Brazil</td>\n",
       "      <td>SAM</td>\n",
       "      <td>South America</td>\n",
       "      <td>2022-04-07</td>\n",
       "      <td>STM</td>\n",
       "      <td>Sharyl Eastmead</td>\n",
       "      <td>Cancelled</td>\n",
       "      <td>4</td>\n",
       "    </tr>\n",
       "    <tr>\n",
       "      <th>8</th>\n",
       "      <td>QNAs2R</td>\n",
       "      <td>Aleda</td>\n",
       "      <td>Pigram</td>\n",
       "      <td>Female</td>\n",
       "      <td>35</td>\n",
       "      <td>Palestinian Territory</td>\n",
       "      <td>Venice Marco Polo Airport</td>\n",
       "      <td>IT</td>\n",
       "      <td>Italy</td>\n",
       "      <td>EU</td>\n",
       "      <td>Europe</td>\n",
       "      <td>2022-08-20</td>\n",
       "      <td>VCE</td>\n",
       "      <td>Daryn Bardsley</td>\n",
       "      <td>On Time</td>\n",
       "      <td>8</td>\n",
       "    </tr>\n",
       "    <tr>\n",
       "      <th>9</th>\n",
       "      <td>3jmudz</td>\n",
       "      <td>Burlie</td>\n",
       "      <td>Schustl</td>\n",
       "      <td>Male</td>\n",
       "      <td>13</td>\n",
       "      <td>Thailand</td>\n",
       "      <td>Vermilion Airport</td>\n",
       "      <td>CA</td>\n",
       "      <td>Canada</td>\n",
       "      <td>NAM</td>\n",
       "      <td>North America</td>\n",
       "      <td>2022-04-06</td>\n",
       "      <td>YVG</td>\n",
       "      <td>Alameda Carlyle</td>\n",
       "      <td>On Time</td>\n",
       "      <td>4</td>\n",
       "    </tr>\n",
       "    <tr>\n",
       "      <th>10</th>\n",
       "      <td>2P41gZ</td>\n",
       "      <td>Porty</td>\n",
       "      <td>Jori</td>\n",
       "      <td>Male</td>\n",
       "      <td>39</td>\n",
       "      <td>Tunisia</td>\n",
       "      <td>Nuevo Casas Grandes Airport</td>\n",
       "      <td>MX</td>\n",
       "      <td>Mexico</td>\n",
       "      <td>NAM</td>\n",
       "      <td>North America</td>\n",
       "      <td>2022-05-27</td>\n",
       "      <td>NCG</td>\n",
       "      <td>Rasia Fidelus</td>\n",
       "      <td>Cancelled</td>\n",
       "      <td>5</td>\n",
       "    </tr>\n",
       "    <tr>\n",
       "      <th>11</th>\n",
       "      <td>sBf524</td>\n",
       "      <td>Briant</td>\n",
       "      <td>De La Haye</td>\n",
       "      <td>Male</td>\n",
       "      <td>71</td>\n",
       "      <td>Russia</td>\n",
       "      <td>Ruben Cantu Airport</td>\n",
       "      <td>PA</td>\n",
       "      <td>Panama</td>\n",
       "      <td>NAM</td>\n",
       "      <td>North America</td>\n",
       "      <td>2022-02-06</td>\n",
       "      <td>SYP</td>\n",
       "      <td>Alina Flooks</td>\n",
       "      <td>Delayed</td>\n",
       "      <td>2</td>\n",
       "    </tr>\n",
       "    <tr>\n",
       "      <th>12</th>\n",
       "      <td>PlwJZT</td>\n",
       "      <td>Kalie</td>\n",
       "      <td>Scoble</td>\n",
       "      <td>Female</td>\n",
       "      <td>47</td>\n",
       "      <td>Sweden</td>\n",
       "      <td>Loralai Airport</td>\n",
       "      <td>PK</td>\n",
       "      <td>Pakistan</td>\n",
       "      <td>AS</td>\n",
       "      <td>Asia</td>\n",
       "      <td>2022-03-19</td>\n",
       "      <td>LRG</td>\n",
       "      <td>Madelena Lennarde</td>\n",
       "      <td>Delayed</td>\n",
       "      <td>3</td>\n",
       "    </tr>\n",
       "    <tr>\n",
       "      <th>13</th>\n",
       "      <td>iU75x3</td>\n",
       "      <td>Catriona</td>\n",
       "      <td>Beaument</td>\n",
       "      <td>Female</td>\n",
       "      <td>77</td>\n",
       "      <td>Russia</td>\n",
       "      <td>Cudal Airport</td>\n",
       "      <td>AU</td>\n",
       "      <td>Australia</td>\n",
       "      <td>OC</td>\n",
       "      <td>Oceania</td>\n",
       "      <td>2022-03-24</td>\n",
       "      <td>CUG</td>\n",
       "      <td>Margie Beal</td>\n",
       "      <td>Delayed</td>\n",
       "      <td>3</td>\n",
       "    </tr>\n",
       "    <tr>\n",
       "      <th>14</th>\n",
       "      <td>GUta6R</td>\n",
       "      <td>Amberly</td>\n",
       "      <td>Handling</td>\n",
       "      <td>Female</td>\n",
       "      <td>32</td>\n",
       "      <td>China</td>\n",
       "      <td>Farmington Regional Airport</td>\n",
       "      <td>US</td>\n",
       "      <td>United States</td>\n",
       "      <td>NAM</td>\n",
       "      <td>North America</td>\n",
       "      <td>2022-03-07</td>\n",
       "      <td>FAM</td>\n",
       "      <td>Lothaire Eades</td>\n",
       "      <td>Delayed</td>\n",
       "      <td>3</td>\n",
       "    </tr>\n",
       "    <tr>\n",
       "      <th>15</th>\n",
       "      <td>8qA80a</td>\n",
       "      <td>Dyna</td>\n",
       "      <td>De'Vere - Hunt</td>\n",
       "      <td>Female</td>\n",
       "      <td>22</td>\n",
       "      <td>China</td>\n",
       "      <td>Oudtshoorn Airport</td>\n",
       "      <td>ZA</td>\n",
       "      <td>South Africa</td>\n",
       "      <td>AF</td>\n",
       "      <td>Africa</td>\n",
       "      <td>2022-07-18</td>\n",
       "      <td>OUH</td>\n",
       "      <td>Neila Giercke</td>\n",
       "      <td>Cancelled</td>\n",
       "      <td>7</td>\n",
       "    </tr>\n",
       "    <tr>\n",
       "      <th>16</th>\n",
       "      <td>2haCDu</td>\n",
       "      <td>Janella</td>\n",
       "      <td>Hardaker</td>\n",
       "      <td>Female</td>\n",
       "      <td>28</td>\n",
       "      <td>Colombia</td>\n",
       "      <td>Zaraza Airport</td>\n",
       "      <td>VE</td>\n",
       "      <td>Venezuela, Bolivarian Republic of</td>\n",
       "      <td>SAM</td>\n",
       "      <td>South America</td>\n",
       "      <td>2022-09-23</td>\n",
       "      <td>ZRZ</td>\n",
       "      <td>Shaylynn Alcott</td>\n",
       "      <td>On Time</td>\n",
       "      <td>9</td>\n",
       "    </tr>\n",
       "    <tr>\n",
       "      <th>17</th>\n",
       "      <td>WiVl8o</td>\n",
       "      <td>Alvin</td>\n",
       "      <td>Wenzel</td>\n",
       "      <td>Male</td>\n",
       "      <td>12</td>\n",
       "      <td>Greece</td>\n",
       "      <td>Enshi Airport</td>\n",
       "      <td>CN</td>\n",
       "      <td>China</td>\n",
       "      <td>AS</td>\n",
       "      <td>Asia</td>\n",
       "      <td>2022-03-29</td>\n",
       "      <td>ENH</td>\n",
       "      <td>Alfie MacMorland</td>\n",
       "      <td>Delayed</td>\n",
       "      <td>3</td>\n",
       "    </tr>\n",
       "    <tr>\n",
       "      <th>18</th>\n",
       "      <td>e0H5LI</td>\n",
       "      <td>Jerrine</td>\n",
       "      <td>Peeters</td>\n",
       "      <td>Female</td>\n",
       "      <td>87</td>\n",
       "      <td>Philippines</td>\n",
       "      <td>Thompson Airport</td>\n",
       "      <td>CA</td>\n",
       "      <td>Canada</td>\n",
       "      <td>NAM</td>\n",
       "      <td>North America</td>\n",
       "      <td>2022-11-03</td>\n",
       "      <td>YTH</td>\n",
       "      <td>Chandra Dyhouse</td>\n",
       "      <td>Cancelled</td>\n",
       "      <td>11</td>\n",
       "    </tr>\n",
       "    <tr>\n",
       "      <th>19</th>\n",
       "      <td>nL8kyD</td>\n",
       "      <td>Warner</td>\n",
       "      <td>Driutti</td>\n",
       "      <td>Male</td>\n",
       "      <td>62</td>\n",
       "      <td>China</td>\n",
       "      <td>Guilin Liangjiang International Airport</td>\n",
       "      <td>CN</td>\n",
       "      <td>China</td>\n",
       "      <td>AS</td>\n",
       "      <td>Asia</td>\n",
       "      <td>2022-09-05</td>\n",
       "      <td>KWL</td>\n",
       "      <td>Marita Holtom</td>\n",
       "      <td>Cancelled</td>\n",
       "      <td>9</td>\n",
       "    </tr>\n",
       "    <tr>\n",
       "      <th>20</th>\n",
       "      <td>9iT79e</td>\n",
       "      <td>Paige</td>\n",
       "      <td>Hayhow</td>\n",
       "      <td>Male</td>\n",
       "      <td>24</td>\n",
       "      <td>Sweden</td>\n",
       "      <td>Crested Butte Airpark</td>\n",
       "      <td>US</td>\n",
       "      <td>United States</td>\n",
       "      <td>NAM</td>\n",
       "      <td>North America</td>\n",
       "      <td>2022-02-19</td>\n",
       "      <td>CSE</td>\n",
       "      <td>Clyde Winn</td>\n",
       "      <td>Delayed</td>\n",
       "      <td>2</td>\n",
       "    </tr>\n",
       "    <tr>\n",
       "      <th>21</th>\n",
       "      <td>kEARqP</td>\n",
       "      <td>Dorisa</td>\n",
       "      <td>Skill</td>\n",
       "      <td>Female</td>\n",
       "      <td>19</td>\n",
       "      <td>Ukraine</td>\n",
       "      <td>St Augustin Airport</td>\n",
       "      <td>CA</td>\n",
       "      <td>Canada</td>\n",
       "      <td>NAM</td>\n",
       "      <td>North America</td>\n",
       "      <td>2022-11-05</td>\n",
       "      <td>YIF</td>\n",
       "      <td>Ilyse Bartleman</td>\n",
       "      <td>Cancelled</td>\n",
       "      <td>11</td>\n",
       "    </tr>\n",
       "    <tr>\n",
       "      <th>22</th>\n",
       "      <td>dx3NWh</td>\n",
       "      <td>Bobbye</td>\n",
       "      <td>Patmore</td>\n",
       "      <td>Female</td>\n",
       "      <td>45</td>\n",
       "      <td>China</td>\n",
       "      <td>Port Bergé Airport</td>\n",
       "      <td>MG</td>\n",
       "      <td>Madagascar</td>\n",
       "      <td>AF</td>\n",
       "      <td>Africa</td>\n",
       "      <td>2022-08-24</td>\n",
       "      <td>WPB</td>\n",
       "      <td>Stella Pittham</td>\n",
       "      <td>On Time</td>\n",
       "      <td>8</td>\n",
       "    </tr>\n",
       "    <tr>\n",
       "      <th>23</th>\n",
       "      <td>Dpafly</td>\n",
       "      <td>Jayme</td>\n",
       "      <td>Dairton</td>\n",
       "      <td>Female</td>\n",
       "      <td>29</td>\n",
       "      <td>Indonesia</td>\n",
       "      <td>Hato Corozal Airport</td>\n",
       "      <td>CO</td>\n",
       "      <td>Colombia</td>\n",
       "      <td>SAM</td>\n",
       "      <td>South America</td>\n",
       "      <td>2022-08-06</td>\n",
       "      <td>HTZ</td>\n",
       "      <td>Kaye Clews</td>\n",
       "      <td>Delayed</td>\n",
       "      <td>8</td>\n",
       "    </tr>\n",
       "    <tr>\n",
       "      <th>24</th>\n",
       "      <td>WV3aXu</td>\n",
       "      <td>Sayre</td>\n",
       "      <td>Stroyan</td>\n",
       "      <td>Male</td>\n",
       "      <td>87</td>\n",
       "      <td>Indonesia</td>\n",
       "      <td>Elkhart Municipal Airport</td>\n",
       "      <td>US</td>\n",
       "      <td>United States</td>\n",
       "      <td>NAM</td>\n",
       "      <td>North America</td>\n",
       "      <td>2022-03-20</td>\n",
       "      <td>EKI</td>\n",
       "      <td>Austine Crewe</td>\n",
       "      <td>Cancelled</td>\n",
       "      <td>3</td>\n",
       "    </tr>\n",
       "    <tr>\n",
       "      <th>25</th>\n",
       "      <td>f27tyG</td>\n",
       "      <td>Joellyn</td>\n",
       "      <td>Stutter</td>\n",
       "      <td>Female</td>\n",
       "      <td>8</td>\n",
       "      <td>Croatia</td>\n",
       "      <td>Timbedra Airport</td>\n",
       "      <td>MR</td>\n",
       "      <td>Mauritania</td>\n",
       "      <td>AF</td>\n",
       "      <td>Africa</td>\n",
       "      <td>2022-02-19</td>\n",
       "      <td>TMD</td>\n",
       "      <td>Janaya Retchford</td>\n",
       "      <td>On Time</td>\n",
       "      <td>2</td>\n",
       "    </tr>\n",
       "    <tr>\n",
       "      <th>26</th>\n",
       "      <td>g2jtbv</td>\n",
       "      <td>Julietta</td>\n",
       "      <td>Delahunt</td>\n",
       "      <td>Female</td>\n",
       "      <td>14</td>\n",
       "      <td>Democratic Republic of the Congo</td>\n",
       "      <td>Bagan Airport</td>\n",
       "      <td>MM</td>\n",
       "      <td>Myanmar</td>\n",
       "      <td>AS</td>\n",
       "      <td>Asia</td>\n",
       "      <td>2022-10-03</td>\n",
       "      <td>NYU</td>\n",
       "      <td>Aimil Shakshaft</td>\n",
       "      <td>Delayed</td>\n",
       "      <td>10</td>\n",
       "    </tr>\n",
       "    <tr>\n",
       "      <th>27</th>\n",
       "      <td>KQmI30</td>\n",
       "      <td>Halie</td>\n",
       "      <td>Jewar</td>\n",
       "      <td>Female</td>\n",
       "      <td>53</td>\n",
       "      <td>France</td>\n",
       "      <td>Wiley Post Will Rogers Memorial Airport</td>\n",
       "      <td>US</td>\n",
       "      <td>United States</td>\n",
       "      <td>NAM</td>\n",
       "      <td>North America</td>\n",
       "      <td>2022-12-05</td>\n",
       "      <td>BRW</td>\n",
       "      <td>Katerine Bartolomivis</td>\n",
       "      <td>Delayed</td>\n",
       "      <td>12</td>\n",
       "    </tr>\n",
       "    <tr>\n",
       "      <th>28</th>\n",
       "      <td>uoKrdd</td>\n",
       "      <td>Jessamyn</td>\n",
       "      <td>Buddles</td>\n",
       "      <td>Female</td>\n",
       "      <td>6</td>\n",
       "      <td>Peru</td>\n",
       "      <td>Gamboma Airport</td>\n",
       "      <td>CG</td>\n",
       "      <td>Congo</td>\n",
       "      <td>AF</td>\n",
       "      <td>Africa</td>\n",
       "      <td>2022-04-09</td>\n",
       "      <td>GMM</td>\n",
       "      <td>Beau Stevens</td>\n",
       "      <td>Delayed</td>\n",
       "      <td>4</td>\n",
       "    </tr>\n",
       "    <tr>\n",
       "      <th>29</th>\n",
       "      <td>BhLqLM</td>\n",
       "      <td>Clevie</td>\n",
       "      <td>Clubbe</td>\n",
       "      <td>Male</td>\n",
       "      <td>35</td>\n",
       "      <td>China</td>\n",
       "      <td>Kasaba Bay Airport</td>\n",
       "      <td>ZM</td>\n",
       "      <td>Zambia</td>\n",
       "      <td>AF</td>\n",
       "      <td>Africa</td>\n",
       "      <td>2022-04-14</td>\n",
       "      <td>ZKB</td>\n",
       "      <td>Fenelia Print</td>\n",
       "      <td>Delayed</td>\n",
       "      <td>4</td>\n",
       "    </tr>\n",
       "    <tr>\n",
       "      <th>30</th>\n",
       "      <td>jy543k</td>\n",
       "      <td>Magdalen</td>\n",
       "      <td>Claiden</td>\n",
       "      <td>Female</td>\n",
       "      <td>14</td>\n",
       "      <td>China</td>\n",
       "      <td>Faleolo International Airport</td>\n",
       "      <td>WS</td>\n",
       "      <td>Samoa</td>\n",
       "      <td>OC</td>\n",
       "      <td>Oceania</td>\n",
       "      <td>2022-07-22</td>\n",
       "      <td>APW</td>\n",
       "      <td>Micky Luno</td>\n",
       "      <td>Delayed</td>\n",
       "      <td>7</td>\n",
       "    </tr>\n",
       "    <tr>\n",
       "      <th>31</th>\n",
       "      <td>ow3B76</td>\n",
       "      <td>Celina</td>\n",
       "      <td>Boothebie</td>\n",
       "      <td>Female</td>\n",
       "      <td>58</td>\n",
       "      <td>Latvia</td>\n",
       "      <td>Gorge Harbour Seaplane Base</td>\n",
       "      <td>CA</td>\n",
       "      <td>Canada</td>\n",
       "      <td>NAM</td>\n",
       "      <td>North America</td>\n",
       "      <td>2022-08-05</td>\n",
       "      <td>YGE</td>\n",
       "      <td>Balduin Ingman</td>\n",
       "      <td>Cancelled</td>\n",
       "      <td>8</td>\n",
       "    </tr>\n",
       "    <tr>\n",
       "      <th>32</th>\n",
       "      <td>sP3mCk</td>\n",
       "      <td>Murvyn</td>\n",
       "      <td>Duff</td>\n",
       "      <td>Male</td>\n",
       "      <td>19</td>\n",
       "      <td>Germany</td>\n",
       "      <td>Nesson Airport</td>\n",
       "      <td>NC</td>\n",
       "      <td>New Caledonia</td>\n",
       "      <td>OC</td>\n",
       "      <td>Oceania</td>\n",
       "      <td>2022-03-25</td>\n",
       "      <td>HLU</td>\n",
       "      <td>Dorine Timmermann</td>\n",
       "      <td>Cancelled</td>\n",
       "      <td>3</td>\n",
       "    </tr>\n",
       "    <tr>\n",
       "      <th>33</th>\n",
       "      <td>yewgFO</td>\n",
       "      <td>Lyndsie</td>\n",
       "      <td>Dyball</td>\n",
       "      <td>Female</td>\n",
       "      <td>22</td>\n",
       "      <td>Czech Republic</td>\n",
       "      <td>Malabo Airport</td>\n",
       "      <td>GQ</td>\n",
       "      <td>Equatorial Guinea</td>\n",
       "      <td>AF</td>\n",
       "      <td>Africa</td>\n",
       "      <td>2022-09-23</td>\n",
       "      <td>SSG</td>\n",
       "      <td>Arlina Legging</td>\n",
       "      <td>Delayed</td>\n",
       "      <td>9</td>\n",
       "    </tr>\n",
       "    <tr>\n",
       "      <th>34</th>\n",
       "      <td>m3EzMU</td>\n",
       "      <td>Ashlie</td>\n",
       "      <td>Rotham</td>\n",
       "      <td>Female</td>\n",
       "      <td>44</td>\n",
       "      <td>Ireland</td>\n",
       "      <td>Zahn's Airport</td>\n",
       "      <td>US</td>\n",
       "      <td>United States</td>\n",
       "      <td>NAM</td>\n",
       "      <td>North America</td>\n",
       "      <td>2022-11-23</td>\n",
       "      <td>AYZ</td>\n",
       "      <td>Vicky Silmon</td>\n",
       "      <td>Delayed</td>\n",
       "      <td>11</td>\n",
       "    </tr>\n",
       "    <tr>\n",
       "      <th>35</th>\n",
       "      <td>L0fKMv</td>\n",
       "      <td>Gardiner</td>\n",
       "      <td>Ferbrache</td>\n",
       "      <td>Male</td>\n",
       "      <td>9</td>\n",
       "      <td>Sweden</td>\n",
       "      <td>Gora Airstrip</td>\n",
       "      <td>PG</td>\n",
       "      <td>Papua New Guinea</td>\n",
       "      <td>OC</td>\n",
       "      <td>Oceania</td>\n",
       "      <td>2022-06-25</td>\n",
       "      <td>GOC</td>\n",
       "      <td>Pamela Franiak</td>\n",
       "      <td>On Time</td>\n",
       "      <td>6</td>\n",
       "    </tr>\n",
       "    <tr>\n",
       "      <th>36</th>\n",
       "      <td>CCMELG</td>\n",
       "      <td>Rudolph</td>\n",
       "      <td>Housbie</td>\n",
       "      <td>Male</td>\n",
       "      <td>74</td>\n",
       "      <td>Iran</td>\n",
       "      <td>Campbell River Airport</td>\n",
       "      <td>CA</td>\n",
       "      <td>Canada</td>\n",
       "      <td>NAM</td>\n",
       "      <td>North America</td>\n",
       "      <td>2022-07-22</td>\n",
       "      <td>YBL</td>\n",
       "      <td>Kirby Varvell</td>\n",
       "      <td>Delayed</td>\n",
       "      <td>7</td>\n",
       "    </tr>\n",
       "    <tr>\n",
       "      <th>37</th>\n",
       "      <td>xzTlBZ</td>\n",
       "      <td>Dun</td>\n",
       "      <td>Craythorn</td>\n",
       "      <td>Male</td>\n",
       "      <td>32</td>\n",
       "      <td>China</td>\n",
       "      <td>Moki Airport</td>\n",
       "      <td>PG</td>\n",
       "      <td>Papua New Guinea</td>\n",
       "      <td>OC</td>\n",
       "      <td>Oceania</td>\n",
       "      <td>2022-12-21</td>\n",
       "      <td>MJJ</td>\n",
       "      <td>Dunn MacSkeagan</td>\n",
       "      <td>Cancelled</td>\n",
       "      <td>12</td>\n",
       "    </tr>\n",
       "    <tr>\n",
       "      <th>38</th>\n",
       "      <td>HKk0Wz</td>\n",
       "      <td>Dasha</td>\n",
       "      <td>Eppson</td>\n",
       "      <td>Female</td>\n",
       "      <td>37</td>\n",
       "      <td>Indonesia</td>\n",
       "      <td>Bairnsdale Airport</td>\n",
       "      <td>AU</td>\n",
       "      <td>Australia</td>\n",
       "      <td>OC</td>\n",
       "      <td>Oceania</td>\n",
       "      <td>2022-01-11</td>\n",
       "      <td>BSJ</td>\n",
       "      <td>Merci Jeduch</td>\n",
       "      <td>On Time</td>\n",
       "      <td>1</td>\n",
       "    </tr>\n",
       "    <tr>\n",
       "      <th>39</th>\n",
       "      <td>HyzgMb</td>\n",
       "      <td>Bibby</td>\n",
       "      <td>Evershed</td>\n",
       "      <td>Female</td>\n",
       "      <td>73</td>\n",
       "      <td>Indonesia</td>\n",
       "      <td>Colonel Hill Airport</td>\n",
       "      <td>BS</td>\n",
       "      <td>Bahamas</td>\n",
       "      <td>NAM</td>\n",
       "      <td>North America</td>\n",
       "      <td>2022-12-11</td>\n",
       "      <td>CRI</td>\n",
       "      <td>Georgena Scanderet</td>\n",
       "      <td>Delayed</td>\n",
       "      <td>12</td>\n",
       "    </tr>\n",
       "    <tr>\n",
       "      <th>40</th>\n",
       "      <td>m0Y9PX</td>\n",
       "      <td>Ransom</td>\n",
       "      <td>Chippindale</td>\n",
       "      <td>Male</td>\n",
       "      <td>54</td>\n",
       "      <td>Peru</td>\n",
       "      <td>Minlaton Airport</td>\n",
       "      <td>AU</td>\n",
       "      <td>Australia</td>\n",
       "      <td>OC</td>\n",
       "      <td>Oceania</td>\n",
       "      <td>2022-12-15</td>\n",
       "      <td>XML</td>\n",
       "      <td>Lenci Aitkin</td>\n",
       "      <td>On Time</td>\n",
       "      <td>12</td>\n",
       "    </tr>\n",
       "    <tr>\n",
       "      <th>41</th>\n",
       "      <td>Dp1Yk1</td>\n",
       "      <td>Zelig</td>\n",
       "      <td>Brinded</td>\n",
       "      <td>Male</td>\n",
       "      <td>61</td>\n",
       "      <td>Brazil</td>\n",
       "      <td>Cincinnati Northern Kentucky International Air...</td>\n",
       "      <td>US</td>\n",
       "      <td>United States</td>\n",
       "      <td>NAM</td>\n",
       "      <td>North America</td>\n",
       "      <td>2022-06-16</td>\n",
       "      <td>CVG</td>\n",
       "      <td>Cosmo Rossbrook</td>\n",
       "      <td>On Time</td>\n",
       "      <td>6</td>\n",
       "    </tr>\n",
       "    <tr>\n",
       "      <th>42</th>\n",
       "      <td>qBeyHc</td>\n",
       "      <td>Rosalyn</td>\n",
       "      <td>Vondrys</td>\n",
       "      <td>Female</td>\n",
       "      <td>56</td>\n",
       "      <td>China</td>\n",
       "      <td>Rar Gwamar Airport</td>\n",
       "      <td>ID</td>\n",
       "      <td>Indonesia</td>\n",
       "      <td>AS</td>\n",
       "      <td>Asia</td>\n",
       "      <td>2022-07-08</td>\n",
       "      <td>DOB</td>\n",
       "      <td>Fowler Desquesnes</td>\n",
       "      <td>Delayed</td>\n",
       "      <td>7</td>\n",
       "    </tr>\n",
       "    <tr>\n",
       "      <th>43</th>\n",
       "      <td>nUcxxq</td>\n",
       "      <td>Lamond</td>\n",
       "      <td>Ahmed</td>\n",
       "      <td>Male</td>\n",
       "      <td>21</td>\n",
       "      <td>Croatia</td>\n",
       "      <td>Sawyer International Airport</td>\n",
       "      <td>US</td>\n",
       "      <td>United States</td>\n",
       "      <td>NAM</td>\n",
       "      <td>North America</td>\n",
       "      <td>2022-05-17</td>\n",
       "      <td>MQT</td>\n",
       "      <td>Liv Heinig</td>\n",
       "      <td>Cancelled</td>\n",
       "      <td>5</td>\n",
       "    </tr>\n",
       "    <tr>\n",
       "      <th>44</th>\n",
       "      <td>E3lxE1</td>\n",
       "      <td>Anders</td>\n",
       "      <td>Treadger</td>\n",
       "      <td>Male</td>\n",
       "      <td>62</td>\n",
       "      <td>Madagascar</td>\n",
       "      <td>Mirny Airport</td>\n",
       "      <td>RU</td>\n",
       "      <td>Russian Federation</td>\n",
       "      <td>AS</td>\n",
       "      <td>Asia</td>\n",
       "      <td>2022-02-21</td>\n",
       "      <td>MJZ</td>\n",
       "      <td>Giacomo Tooth</td>\n",
       "      <td>On Time</td>\n",
       "      <td>2</td>\n",
       "    </tr>\n",
       "    <tr>\n",
       "      <th>45</th>\n",
       "      <td>gieC4F</td>\n",
       "      <td>Haroun</td>\n",
       "      <td>holmes</td>\n",
       "      <td>Male</td>\n",
       "      <td>54</td>\n",
       "      <td>United States</td>\n",
       "      <td>Susanville Municipal Airport</td>\n",
       "      <td>US</td>\n",
       "      <td>United States</td>\n",
       "      <td>NAM</td>\n",
       "      <td>North America</td>\n",
       "      <td>2022-03-21</td>\n",
       "      <td>SVE</td>\n",
       "      <td>Xerxes Arkcoll</td>\n",
       "      <td>On Time</td>\n",
       "      <td>3</td>\n",
       "    </tr>\n",
       "    <tr>\n",
       "      <th>46</th>\n",
       "      <td>N9wtod</td>\n",
       "      <td>Kristan</td>\n",
       "      <td>Metzing</td>\n",
       "      <td>Female</td>\n",
       "      <td>37</td>\n",
       "      <td>Peru</td>\n",
       "      <td>Wichita Eisenhower National Airport</td>\n",
       "      <td>US</td>\n",
       "      <td>United States</td>\n",
       "      <td>NAM</td>\n",
       "      <td>North America</td>\n",
       "      <td>2022-11-08</td>\n",
       "      <td>ICT</td>\n",
       "      <td>Ellene Gibby</td>\n",
       "      <td>Delayed</td>\n",
       "      <td>11</td>\n",
       "    </tr>\n",
       "    <tr>\n",
       "      <th>47</th>\n",
       "      <td>2GBRsN</td>\n",
       "      <td>Willie</td>\n",
       "      <td>Netherwood</td>\n",
       "      <td>Male</td>\n",
       "      <td>85</td>\n",
       "      <td>Russia</td>\n",
       "      <td>Kavieng Airport</td>\n",
       "      <td>PG</td>\n",
       "      <td>Papua New Guinea</td>\n",
       "      <td>OC</td>\n",
       "      <td>Oceania</td>\n",
       "      <td>2022-06-22</td>\n",
       "      <td>KVG</td>\n",
       "      <td>Shirlee Weldrake</td>\n",
       "      <td>On Time</td>\n",
       "      <td>6</td>\n",
       "    </tr>\n",
       "    <tr>\n",
       "      <th>48</th>\n",
       "      <td>FaU9VX</td>\n",
       "      <td>Aldon</td>\n",
       "      <td>Ridsdell</td>\n",
       "      <td>Male</td>\n",
       "      <td>24</td>\n",
       "      <td>Ghana</td>\n",
       "      <td>Arapiraca Airport</td>\n",
       "      <td>BR</td>\n",
       "      <td>Brazil</td>\n",
       "      <td>SAM</td>\n",
       "      <td>South America</td>\n",
       "      <td>2022-04-26</td>\n",
       "      <td>APQ</td>\n",
       "      <td>Lynette Ortelt</td>\n",
       "      <td>Delayed</td>\n",
       "      <td>4</td>\n",
       "    </tr>\n",
       "    <tr>\n",
       "      <th>49</th>\n",
       "      <td>kqtQSY</td>\n",
       "      <td>Chrotoem</td>\n",
       "      <td>Abels</td>\n",
       "      <td>Male</td>\n",
       "      <td>62</td>\n",
       "      <td>Russia</td>\n",
       "      <td>Port Lincoln Airport</td>\n",
       "      <td>AU</td>\n",
       "      <td>Australia</td>\n",
       "      <td>OC</td>\n",
       "      <td>Oceania</td>\n",
       "      <td>2022-03-06</td>\n",
       "      <td>PLO</td>\n",
       "      <td>Che Brett</td>\n",
       "      <td>On Time</td>\n",
       "      <td>3</td>\n",
       "    </tr>\n",
       "  </tbody>\n",
       "</table>\n",
       "</div>"
      ],
      "text/plain": [
       "   Passenger ID First Name       Last Name  Gender  Age   \n",
       "0        ABVWIg     Edithe          Leggis  Female   62  \\\n",
       "1        jkXXAX     Elwood            Catt    Male   62   \n",
       "2        CdUz2g      Darby         Felgate    Male   67   \n",
       "3        BRS38V   Dominica            Pyle  Female   71   \n",
       "4        9kvTLo        Bay         Pencost    Male   21   \n",
       "5        nMJKVh       Lora         Durbann  Female   55   \n",
       "6        8IPFPE       Rand            Bram    Male   73   \n",
       "7        pqixbY   Perceval        Dallosso    Male   36   \n",
       "8        QNAs2R      Aleda          Pigram  Female   35   \n",
       "9        3jmudz     Burlie         Schustl    Male   13   \n",
       "10       2P41gZ      Porty            Jori    Male   39   \n",
       "11       sBf524     Briant      De La Haye    Male   71   \n",
       "12       PlwJZT      Kalie          Scoble  Female   47   \n",
       "13       iU75x3   Catriona        Beaument  Female   77   \n",
       "14       GUta6R    Amberly        Handling  Female   32   \n",
       "15       8qA80a       Dyna  De'Vere - Hunt  Female   22   \n",
       "16       2haCDu    Janella        Hardaker  Female   28   \n",
       "17       WiVl8o      Alvin          Wenzel    Male   12   \n",
       "18       e0H5LI    Jerrine         Peeters  Female   87   \n",
       "19       nL8kyD     Warner         Driutti    Male   62   \n",
       "20       9iT79e      Paige          Hayhow    Male   24   \n",
       "21       kEARqP     Dorisa           Skill  Female   19   \n",
       "22       dx3NWh     Bobbye         Patmore  Female   45   \n",
       "23       Dpafly      Jayme         Dairton  Female   29   \n",
       "24       WV3aXu      Sayre         Stroyan    Male   87   \n",
       "25       f27tyG    Joellyn         Stutter  Female    8   \n",
       "26       g2jtbv   Julietta        Delahunt  Female   14   \n",
       "27       KQmI30      Halie           Jewar  Female   53   \n",
       "28       uoKrdd   Jessamyn         Buddles  Female    6   \n",
       "29       BhLqLM     Clevie          Clubbe    Male   35   \n",
       "30       jy543k   Magdalen         Claiden  Female   14   \n",
       "31       ow3B76     Celina       Boothebie  Female   58   \n",
       "32       sP3mCk     Murvyn            Duff    Male   19   \n",
       "33       yewgFO    Lyndsie          Dyball  Female   22   \n",
       "34       m3EzMU     Ashlie          Rotham  Female   44   \n",
       "35       L0fKMv   Gardiner       Ferbrache    Male    9   \n",
       "36       CCMELG    Rudolph         Housbie    Male   74   \n",
       "37       xzTlBZ        Dun       Craythorn    Male   32   \n",
       "38       HKk0Wz      Dasha          Eppson  Female   37   \n",
       "39       HyzgMb      Bibby        Evershed  Female   73   \n",
       "40       m0Y9PX     Ransom     Chippindale    Male   54   \n",
       "41       Dp1Yk1      Zelig         Brinded    Male   61   \n",
       "42       qBeyHc    Rosalyn         Vondrys  Female   56   \n",
       "43       nUcxxq     Lamond           Ahmed    Male   21   \n",
       "44       E3lxE1     Anders        Treadger    Male   62   \n",
       "45       gieC4F     Haroun          holmes    Male   54   \n",
       "46       N9wtod    Kristan         Metzing  Female   37   \n",
       "47       2GBRsN     Willie      Netherwood    Male   85   \n",
       "48       FaU9VX      Aldon        Ridsdell    Male   24   \n",
       "49       kqtQSY   Chrotoem           Abels    Male   62   \n",
       "\n",
       "                         Nationality   \n",
       "0                              Japan  \\\n",
       "1                          Nicaragua   \n",
       "2                             Russia   \n",
       "3                              China   \n",
       "4                              China   \n",
       "5                             Brazil   \n",
       "6                        Ivory Coast   \n",
       "7                            Vietnam   \n",
       "8              Palestinian Territory   \n",
       "9                           Thailand   \n",
       "10                           Tunisia   \n",
       "11                            Russia   \n",
       "12                            Sweden   \n",
       "13                            Russia   \n",
       "14                             China   \n",
       "15                             China   \n",
       "16                          Colombia   \n",
       "17                            Greece   \n",
       "18                       Philippines   \n",
       "19                             China   \n",
       "20                            Sweden   \n",
       "21                           Ukraine   \n",
       "22                             China   \n",
       "23                         Indonesia   \n",
       "24                         Indonesia   \n",
       "25                           Croatia   \n",
       "26  Democratic Republic of the Congo   \n",
       "27                            France   \n",
       "28                              Peru   \n",
       "29                             China   \n",
       "30                             China   \n",
       "31                            Latvia   \n",
       "32                           Germany   \n",
       "33                    Czech Republic   \n",
       "34                           Ireland   \n",
       "35                            Sweden   \n",
       "36                              Iran   \n",
       "37                             China   \n",
       "38                         Indonesia   \n",
       "39                         Indonesia   \n",
       "40                              Peru   \n",
       "41                            Brazil   \n",
       "42                             China   \n",
       "43                           Croatia   \n",
       "44                        Madagascar   \n",
       "45                     United States   \n",
       "46                              Peru   \n",
       "47                            Russia   \n",
       "48                             Ghana   \n",
       "49                            Russia   \n",
       "\n",
       "                                         Airport Name Airport Country Code   \n",
       "0                                    Coldfoot Airport                   US  \\\n",
       "1                                   Kugluktuk Airport                   CA   \n",
       "2                              Grenoble-Isère Airport                   FR   \n",
       "3                           Ottawa / Gatineau Airport                   CA   \n",
       "4                                     Gillespie Field                   US   \n",
       "5                   Coronel Horácio de Mattos Airport                   BR   \n",
       "6                                   Duxford Aerodrome                   GB   \n",
       "7                      Maestro Wilson Fonseca Airport                   BR   \n",
       "8                           Venice Marco Polo Airport                   IT   \n",
       "9                                   Vermilion Airport                   CA   \n",
       "10                        Nuevo Casas Grandes Airport                   MX   \n",
       "11                                Ruben Cantu Airport                   PA   \n",
       "12                                    Loralai Airport                   PK   \n",
       "13                                      Cudal Airport                   AU   \n",
       "14                        Farmington Regional Airport                   US   \n",
       "15                                 Oudtshoorn Airport                   ZA   \n",
       "16                                     Zaraza Airport                   VE   \n",
       "17                                      Enshi Airport                   CN   \n",
       "18                                   Thompson Airport                   CA   \n",
       "19            Guilin Liangjiang International Airport                   CN   \n",
       "20                              Crested Butte Airpark                   US   \n",
       "21                                St Augustin Airport                   CA   \n",
       "22                                 Port Bergé Airport                   MG   \n",
       "23                               Hato Corozal Airport                   CO   \n",
       "24                          Elkhart Municipal Airport                   US   \n",
       "25                                   Timbedra Airport                   MR   \n",
       "26                                      Bagan Airport                   MM   \n",
       "27            Wiley Post Will Rogers Memorial Airport                   US   \n",
       "28                                    Gamboma Airport                   CG   \n",
       "29                                 Kasaba Bay Airport                   ZM   \n",
       "30                      Faleolo International Airport                   WS   \n",
       "31                        Gorge Harbour Seaplane Base                   CA   \n",
       "32                                     Nesson Airport                   NC   \n",
       "33                                     Malabo Airport                   GQ   \n",
       "34                                     Zahn's Airport                   US   \n",
       "35                                      Gora Airstrip                   PG   \n",
       "36                             Campbell River Airport                   CA   \n",
       "37                                       Moki Airport                   PG   \n",
       "38                                 Bairnsdale Airport                   AU   \n",
       "39                               Colonel Hill Airport                   BS   \n",
       "40                                   Minlaton Airport                   AU   \n",
       "41  Cincinnati Northern Kentucky International Air...                   US   \n",
       "42                                 Rar Gwamar Airport                   ID   \n",
       "43                       Sawyer International Airport                   US   \n",
       "44                                      Mirny Airport                   RU   \n",
       "45                       Susanville Municipal Airport                   US   \n",
       "46                Wichita Eisenhower National Airport                   US   \n",
       "47                                    Kavieng Airport                   PG   \n",
       "48                                  Arapiraca Airport                   BR   \n",
       "49                               Port Lincoln Airport                   AU   \n",
       "\n",
       "                         Country Name Airport Continent     Continents   \n",
       "0                       United States               NAM  North America  \\\n",
       "1                              Canada               NAM  North America   \n",
       "2                              France                EU         Europe   \n",
       "3                              Canada               NAM  North America   \n",
       "4                       United States               NAM  North America   \n",
       "5                              Brazil               SAM  South America   \n",
       "6                      United Kingdom                EU         Europe   \n",
       "7                              Brazil               SAM  South America   \n",
       "8                               Italy                EU         Europe   \n",
       "9                              Canada               NAM  North America   \n",
       "10                             Mexico               NAM  North America   \n",
       "11                             Panama               NAM  North America   \n",
       "12                           Pakistan                AS           Asia   \n",
       "13                          Australia                OC        Oceania   \n",
       "14                      United States               NAM  North America   \n",
       "15                       South Africa                AF         Africa   \n",
       "16  Venezuela, Bolivarian Republic of               SAM  South America   \n",
       "17                              China                AS           Asia   \n",
       "18                             Canada               NAM  North America   \n",
       "19                              China                AS           Asia   \n",
       "20                      United States               NAM  North America   \n",
       "21                             Canada               NAM  North America   \n",
       "22                         Madagascar                AF         Africa   \n",
       "23                           Colombia               SAM  South America   \n",
       "24                      United States               NAM  North America   \n",
       "25                         Mauritania                AF         Africa   \n",
       "26                            Myanmar                AS           Asia   \n",
       "27                      United States               NAM  North America   \n",
       "28                              Congo                AF         Africa   \n",
       "29                             Zambia                AF         Africa   \n",
       "30                              Samoa                OC        Oceania   \n",
       "31                             Canada               NAM  North America   \n",
       "32                      New Caledonia                OC        Oceania   \n",
       "33                  Equatorial Guinea                AF         Africa   \n",
       "34                      United States               NAM  North America   \n",
       "35                   Papua New Guinea                OC        Oceania   \n",
       "36                             Canada               NAM  North America   \n",
       "37                   Papua New Guinea                OC        Oceania   \n",
       "38                          Australia                OC        Oceania   \n",
       "39                            Bahamas               NAM  North America   \n",
       "40                          Australia                OC        Oceania   \n",
       "41                      United States               NAM  North America   \n",
       "42                          Indonesia                AS           Asia   \n",
       "43                      United States               NAM  North America   \n",
       "44                 Russian Federation                AS           Asia   \n",
       "45                      United States               NAM  North America   \n",
       "46                      United States               NAM  North America   \n",
       "47                   Papua New Guinea                OC        Oceania   \n",
       "48                             Brazil               SAM  South America   \n",
       "49                          Australia                OC        Oceania   \n",
       "\n",
       "   Departure Date Arrival Airport             Pilot Name Flight Status  Month  \n",
       "0      2022-06-28             CXF    Fransisco Hazeldine       On Time      6  \n",
       "1      2022-12-26             YCO        Marla Parsonage       On Time     12  \n",
       "2      2022-01-18             GNB           Rhonda Amber       On Time      1  \n",
       "3      2022-09-16             YND         Kacie Commucci       Delayed      9  \n",
       "4      2022-02-25             SEE            Ebonee Tree       On Time      2  \n",
       "5      2022-06-10             LEC          Inglis Dolley       On Time      6  \n",
       "6      2022-10-30             QFO       Stanislas Tiffin     Cancelled     10  \n",
       "7      2022-04-07             STM        Sharyl Eastmead     Cancelled      4  \n",
       "8      2022-08-20             VCE         Daryn Bardsley       On Time      8  \n",
       "9      2022-04-06             YVG        Alameda Carlyle       On Time      4  \n",
       "10     2022-05-27             NCG          Rasia Fidelus     Cancelled      5  \n",
       "11     2022-02-06             SYP           Alina Flooks       Delayed      2  \n",
       "12     2022-03-19             LRG      Madelena Lennarde       Delayed      3  \n",
       "13     2022-03-24             CUG            Margie Beal       Delayed      3  \n",
       "14     2022-03-07             FAM         Lothaire Eades       Delayed      3  \n",
       "15     2022-07-18             OUH          Neila Giercke     Cancelled      7  \n",
       "16     2022-09-23             ZRZ        Shaylynn Alcott       On Time      9  \n",
       "17     2022-03-29             ENH       Alfie MacMorland       Delayed      3  \n",
       "18     2022-11-03             YTH        Chandra Dyhouse     Cancelled     11  \n",
       "19     2022-09-05             KWL          Marita Holtom     Cancelled      9  \n",
       "20     2022-02-19             CSE             Clyde Winn       Delayed      2  \n",
       "21     2022-11-05             YIF        Ilyse Bartleman     Cancelled     11  \n",
       "22     2022-08-24             WPB         Stella Pittham       On Time      8  \n",
       "23     2022-08-06             HTZ             Kaye Clews       Delayed      8  \n",
       "24     2022-03-20             EKI          Austine Crewe     Cancelled      3  \n",
       "25     2022-02-19             TMD       Janaya Retchford       On Time      2  \n",
       "26     2022-10-03             NYU        Aimil Shakshaft       Delayed     10  \n",
       "27     2022-12-05             BRW  Katerine Bartolomivis       Delayed     12  \n",
       "28     2022-04-09             GMM           Beau Stevens       Delayed      4  \n",
       "29     2022-04-14             ZKB          Fenelia Print       Delayed      4  \n",
       "30     2022-07-22             APW             Micky Luno       Delayed      7  \n",
       "31     2022-08-05             YGE         Balduin Ingman     Cancelled      8  \n",
       "32     2022-03-25             HLU      Dorine Timmermann     Cancelled      3  \n",
       "33     2022-09-23             SSG         Arlina Legging       Delayed      9  \n",
       "34     2022-11-23             AYZ           Vicky Silmon       Delayed     11  \n",
       "35     2022-06-25             GOC         Pamela Franiak       On Time      6  \n",
       "36     2022-07-22             YBL          Kirby Varvell       Delayed      7  \n",
       "37     2022-12-21             MJJ        Dunn MacSkeagan     Cancelled     12  \n",
       "38     2022-01-11             BSJ           Merci Jeduch       On Time      1  \n",
       "39     2022-12-11             CRI     Georgena Scanderet       Delayed     12  \n",
       "40     2022-12-15             XML           Lenci Aitkin       On Time     12  \n",
       "41     2022-06-16             CVG        Cosmo Rossbrook       On Time      6  \n",
       "42     2022-07-08             DOB      Fowler Desquesnes       Delayed      7  \n",
       "43     2022-05-17             MQT             Liv Heinig     Cancelled      5  \n",
       "44     2022-02-21             MJZ          Giacomo Tooth       On Time      2  \n",
       "45     2022-03-21             SVE         Xerxes Arkcoll       On Time      3  \n",
       "46     2022-11-08             ICT           Ellene Gibby       Delayed     11  \n",
       "47     2022-06-22             KVG       Shirlee Weldrake       On Time      6  \n",
       "48     2022-04-26             APQ         Lynette Ortelt       Delayed      4  \n",
       "49     2022-03-06             PLO              Che Brett       On Time      3  "
      ]
     },
     "execution_count": 20,
     "metadata": {},
     "output_type": "execute_result"
    }
   ],
   "source": [
    "df.head(50)"
   ]
  },
  {
   "cell_type": "markdown",
   "id": "1d907f25",
   "metadata": {},
   "source": [
    "### 2. Month wise distribution     "
   ]
  },
  {
   "cell_type": "markdown",
   "id": "b8d4866b",
   "metadata": {},
   "source": [
    "#### 2.1  Total number of passengers month wise- "
   ]
  },
  {
   "cell_type": "code",
   "execution_count": 21,
   "id": "faa36e65",
   "metadata": {
    "scrolled": true
   },
   "outputs": [
    {
     "data": {
      "text/plain": [
       "Month\n",
       "8     8544\n",
       "5     8496\n",
       "7     8451\n",
       "3     8431\n",
       "1     8416\n",
       "10    8415\n",
       "9     8149\n",
       "6     8128\n",
       "11    8053\n",
       "4     7959\n",
       "12    7924\n",
       "2     7653\n",
       "Name: count, dtype: int64"
      ]
     },
     "execution_count": 21,
     "metadata": {},
     "output_type": "execute_result"
    }
   ],
   "source": [
    "counter_1 = df['Month'].value_counts()\n",
    "counter_1"
   ]
  },
  {
   "cell_type": "code",
   "execution_count": 22,
   "id": "cf57e6b8",
   "metadata": {
    "scrolled": false
   },
   "outputs": [
    {
     "data": {
      "text/plain": [
       "<function matplotlib.pyplot.show(close=None, block=None)>"
      ]
     },
     "execution_count": 22,
     "metadata": {},
     "output_type": "execute_result"
    },
    {
     "data": {
      "image/png": "[encoded data removed]",
      "text/plain": [
       "<Figure size 640x480 with 1 Axes>"
      ]
     },
     "metadata": {},
     "output_type": "display_data"
    }
   ],
   "source": [
    "plt.bar(counter_1.index, counter_1.values, color = [\"r\", \"c\", \"g\", \"y\"], width= 0.6)\n",
    "plt.ylim(7600, 8600)\n",
    "plt.ylabel(\"Passenger count\")\n",
    "plt.xlabel(\"Month\")\n",
    "plt.title(\"Month wise passenger distribution\")\n",
    "plt.show"
   ]
  },
  {
   "cell_type": "markdown",
   "id": "14db74c7",
   "metadata": {},
   "source": [
    "#### 2.2 Max flight delays happen in which month?"
   ]
  },
  {
   "cell_type": "code",
   "execution_count": 23,
   "id": "51406fc3",
   "metadata": {},
   "outputs": [],
   "source": [
    "counter_2 = df[\"Month\"].loc[cond_3].value_counts()"
   ]
  },
  {
   "cell_type": "code",
   "execution_count": 24,
   "id": "a314c0e9",
   "metadata": {},
   "outputs": [
    {
     "data": {
      "text/plain": [
       "<function matplotlib.pyplot.show(close=None, block=None)>"
      ]
     },
     "execution_count": 24,
     "metadata": {},
     "output_type": "execute_result"
    },
    {
     "data": {
      "image/png": "[encoded data removed]",
      "text/plain": [
       "<Figure size 640x480 with 1 Axes>"
      ]
     },
     "metadata": {},
     "output_type": "display_data"
    }
   ],
   "source": [
    "plt.bar(counter_2.index, counter_2.values, color = [\"r\", \"c\", \"g\", \"y\"])\n",
    "plt.ylim(2500, 3000)\n",
    "plt.ylabel(\"Passenger count\")\n",
    "plt.xlabel(\"Month\")\n",
    "plt.title(\"Month wise flight delay distribution\")\n",
    "plt.show"
   ]
  },
  {
   "cell_type": "code",
   "execution_count": 25,
   "id": "10bc9a01",
   "metadata": {},
   "outputs": [
    {
     "data": {
      "text/plain": [
       "1"
      ]
     },
     "execution_count": 25,
     "metadata": {},
     "output_type": "execute_result"
    }
   ],
   "source": [
    "counter_2.idxmax() # Month with most on-time departures."
   ]
  },
  {
   "cell_type": "markdown",
   "id": "8e158799",
   "metadata": {},
   "source": [
    "#### 2.3 Month with most on-time and cancelled departures?"
   ]
  },
  {
   "cell_type": "code",
   "execution_count": 26,
   "id": "0c2068ff",
   "metadata": {},
   "outputs": [
    {
     "data": {
      "text/plain": [
       "2875"
      ]
     },
     "execution_count": 26,
     "metadata": {},
     "output_type": "execute_result"
    }
   ],
   "source": [
    "max(df['Month'].loc[cond_2].value_counts())"
   ]
  },
  {
   "cell_type": "code",
   "execution_count": 27,
   "id": "6c14370b",
   "metadata": {},
   "outputs": [
    {
     "data": {
      "text/plain": [
       "8"
      ]
     },
     "execution_count": 27,
     "metadata": {},
     "output_type": "execute_result"
    }
   ],
   "source": [
    "counter_3 = df['Month'].loc[cond_2].value_counts() ## Max ontime departure month.\n",
    "counter_3.idxmax()"
   ]
  },
  {
   "cell_type": "code",
   "execution_count": 28,
   "id": "26cfd541",
   "metadata": {},
   "outputs": [
    {
     "data": {
      "text/plain": [
       "Text(0.5, 1.0, 'Month wise On-time departures')"
      ]
     },
     "execution_count": 28,
     "metadata": {},
     "output_type": "execute_result"
    },
    {
     "data": {
      "image/png": "[encoded data removed]",
      "text/plain": [
       "<Figure size 640x480 with 1 Axes>"
      ]
     },
     "metadata": {},
     "output_type": "display_data"
    }
   ],
   "source": [
    "plt.bar(counter_3.index,counter_3.values,color = [\"r\", \"c\", \"g\", \"y\"])\n",
    "plt.ylim(2500,3000)\n",
    "plt.title(\"Month wise On-time departures\")"
   ]
  },
  {
   "cell_type": "code",
   "execution_count": 29,
   "id": "fde75ad5",
   "metadata": {},
   "outputs": [
    {
     "data": {
      "text/plain": [
       "Month\n",
       "8     2864\n",
       "5     2846\n",
       "7     2800\n",
       "10    2797\n",
       "3     2776\n",
       "9     2766\n",
       "6     2756\n",
       "1     2747\n",
       "12    2702\n",
       "11    2678\n",
       "4     2645\n",
       "2     2565\n",
       "Name: count, dtype: int64"
      ]
     },
     "execution_count": 29,
     "metadata": {},
     "output_type": "execute_result"
    }
   ],
   "source": [
    "counter_4 = df['Month'].loc[cond_4].value_counts()\n",
    "counter_4"
   ]
  },
  {
   "cell_type": "code",
   "execution_count": 30,
   "id": "41c6a5cd",
   "metadata": {},
   "outputs": [
    {
     "data": {
      "text/plain": [
       "8"
      ]
     },
     "execution_count": 30,
     "metadata": {},
     "output_type": "execute_result"
    }
   ],
   "source": [
    "counter_4.idxmax()"
   ]
  },
  {
   "cell_type": "code",
   "execution_count": 31,
   "id": "a3e90d75",
   "metadata": {
    "scrolled": false
   },
   "outputs": [
    {
     "data": {
      "text/plain": [
       "Text(0.5, 1.0, 'Month wise cancelled departures')"
      ]
     },
     "execution_count": 31,
     "metadata": {},
     "output_type": "execute_result"
    },
    {
     "data": {
      "image/png": "[encoded data removed]",
      "text/plain": [
       "<Figure size 640x480 with 1 Axes>"
      ]
     },
     "metadata": {},
     "output_type": "display_data"
    }
   ],
   "source": [
    "plt.bar(counter_4.index,counter_4.values,color = [\"r\", \"c\", \"g\", \"y\"])\n",
    "plt.ylim(2500,3000)\n",
    "plt.title(\"Month wise cancelled departures\")"
   ]
  },
  {
   "cell_type": "markdown",
   "id": "49ea0ddd",
   "metadata": {},
   "source": [
    "#### 2.4 Percentage wise most on time departures month wise"
   ]
  },
  {
   "cell_type": "code",
   "execution_count": 32,
   "id": "0fd487d3",
   "metadata": {
    "scrolled": true
   },
   "outputs": [],
   "source": [
    "flt_ot = 100*(counter_3/counter_1)"
   ]
  },
  {
   "cell_type": "code",
   "execution_count": 33,
   "id": "b186744a",
   "metadata": {},
   "outputs": [
    {
     "data": {
      "text/plain": [
       "Month\n",
       "1     33.281844\n",
       "2     33.333333\n",
       "3     33.934290\n",
       "4     32.654856\n",
       "5     32.921375\n",
       "6     33.144685\n",
       "7     33.995977\n",
       "8     33.649345\n",
       "9     32.642042\n",
       "10    33.784908\n",
       "11    33.217434\n",
       "12    33.026249\n",
       "Name: count, dtype: float64"
      ]
     },
     "execution_count": 33,
     "metadata": {},
     "output_type": "execute_result"
    }
   ],
   "source": [
    "flt_ot"
   ]
  },
  {
   "cell_type": "code",
   "execution_count": 34,
   "id": "150b9ed5",
   "metadata": {},
   "outputs": [],
   "source": [
    "flt_dly = 100*(counter_2/counter_1)"
   ]
  },
  {
   "cell_type": "code",
   "execution_count": 35,
   "id": "f93232b0",
   "metadata": {},
   "outputs": [
    {
     "data": {
      "text/plain": [
       "Month\n",
       "1     34.077947\n",
       "2     33.150399\n",
       "3     33.139604\n",
       "4     34.112326\n",
       "5     33.580508\n",
       "6     32.947835\n",
       "7     32.871849\n",
       "8     32.830056\n",
       "9     33.415143\n",
       "10    32.976827\n",
       "11    33.527878\n",
       "12    32.874811\n",
       "Name: count, dtype: float64"
      ]
     },
     "execution_count": 35,
     "metadata": {},
     "output_type": "execute_result"
    }
   ],
   "source": [
    "flt_dly"
   ]
  },
  {
   "cell_type": "code",
   "execution_count": 36,
   "id": "d5f5857a",
   "metadata": {},
   "outputs": [],
   "source": [
    "flt_dpt = counter_1 - counter_4"
   ]
  },
  {
   "cell_type": "code",
   "execution_count": 37,
   "id": "2471fbfe",
   "metadata": {
    "scrolled": true
   },
   "outputs": [
    {
     "data": {
      "text/plain": [
       "Month\n",
       "1     49.409067\n",
       "2     50.137579\n",
       "3     50.592396\n",
       "4     48.908543\n",
       "5     49.504425\n",
       "6     50.148920\n",
       "7     50.840559\n",
       "8     50.616197\n",
       "9     49.414824\n",
       "10    50.605198\n",
       "11    49.767442\n",
       "12    50.114899\n",
       "Name: count, dtype: float64"
      ]
     },
     "execution_count": 37,
     "metadata": {},
     "output_type": "execute_result"
    }
   ],
   "source": [
    "flt_dpt_dly = 100*(counter_3/flt_dpt)\n",
    "flt_dpt_dly"
   ]
  },
  {
   "cell_type": "code",
   "execution_count": 38,
   "id": "2d3094c6",
   "metadata": {},
   "outputs": [
    {
     "data": {
      "text/plain": [
       "Month\n",
       "1     32.640209\n",
       "2     33.516268\n",
       "3     32.926106\n",
       "4     33.232818\n",
       "5     33.498117\n",
       "6     33.907480\n",
       "7     33.132174\n",
       "8     33.520599\n",
       "9     33.942815\n",
       "10    33.238265\n",
       "11    33.254688\n",
       "12    34.098940\n",
       "Name: count, dtype: float64"
      ]
     },
     "execution_count": 38,
     "metadata": {},
     "output_type": "execute_result"
    }
   ],
   "source": [
    "flt_can = 100*(counter_4/counter_1)\n",
    "flt_can"
   ]
  },
  {
   "cell_type": "code",
   "execution_count": null,
   "id": "7811a75f",
   "metadata": {},
   "outputs": [],
   "source": []
  },
  {
   "cell_type": "markdown",
   "id": "ab454dd6",
   "metadata": {},
   "source": [
    "### 3. Country/Airport wise distribution. "
   ]
  },
  {
   "cell_type": "markdown",
   "id": "99bda0ee",
   "metadata": {},
   "source": [
    "#### 3.1 Number of delays according to country"
   ]
  },
  {
   "cell_type": "code",
   "execution_count": 39,
   "id": "56210d22",
   "metadata": {},
   "outputs": [],
   "source": [
    "total_count = df[\"Country Name\"].value_counts()"
   ]
  },
  {
   "cell_type": "code",
   "execution_count": 40,
   "id": "4180ec73",
   "metadata": {},
   "outputs": [
    {
     "data": {
      "text/plain": [
       "Country Name\n",
       "United States       22104\n",
       "Australia            6370\n",
       "Canada               5424\n",
       "Brazil               4504\n",
       "Papua New Guinea     4081\n",
       "Name: count, dtype: int64"
      ]
     },
     "execution_count": 40,
     "metadata": {},
     "output_type": "execute_result"
    }
   ],
   "source": [
    "top_5 = total_count.nlargest(5)\n",
    "top_5"
   ]
  },
  {
   "cell_type": "code",
   "execution_count": null,
   "id": "45d2df8d",
   "metadata": {},
   "outputs": [],
   "source": []
  },
  {
   "cell_type": "code",
   "execution_count": 41,
   "id": "171bbe50",
   "metadata": {},
   "outputs": [
    {
     "data": {
      "text/plain": [
       "Text(0, 0.5, 'Passenger traffic')"
      ]
     },
     "execution_count": 41,
     "metadata": {},
     "output_type": "execute_result"
    },
    {
     "data": {
      "image/png": "[encoded data removed]",
      "text/plain": [
       "<Figure size 640x480 with 1 Axes>"
      ]
     },
     "metadata": {},
     "output_type": "display_data"
    }
   ],
   "source": [
    "plt.bar(top_5.index, top_5.values, color = [\"r\", \"c\", \"g\", \"y\"])\n",
    "plt.ylabel(\"Passenger traffic\")"
   ]
  },
  {
   "cell_type": "markdown",
   "id": "5c9051a8",
   "metadata": {},
   "source": [
    "#### 3.1.1 Country with most delays. "
   ]
  },
  {
   "cell_type": "code",
   "execution_count": 42,
   "id": "77459ec8",
   "metadata": {},
   "outputs": [],
   "source": [
    "counter_5 = df[\"Country Name\"].loc[cond_3].value_counts()"
   ]
  },
  {
   "cell_type": "code",
   "execution_count": 43,
   "id": "28a69c05",
   "metadata": {},
   "outputs": [
    {
     "data": {
      "text/plain": [
       "Country Name\n",
       "United States              7375\n",
       "Australia                  2142\n",
       "Canada                     1807\n",
       "Brazil                     1472\n",
       "Papua New Guinea           1372\n",
       "                           ... \n",
       "Guinea-Bissau                 1\n",
       "Andorra                       1\n",
       "Cocos (Keeling) Islands       1\n",
       "Jersey                        1\n",
       "Brunei Darussalam             1\n",
       "Name: count, Length: 235, dtype: int64"
      ]
     },
     "execution_count": 43,
     "metadata": {},
     "output_type": "execute_result"
    }
   ],
   "source": [
    "counter_5"
   ]
  },
  {
   "cell_type": "markdown",
   "id": "47782394",
   "metadata": {},
   "source": [
    "### Note :- Clearly America is the nation with most flight delays by number."
   ]
  },
  {
   "cell_type": "code",
   "execution_count": 44,
   "id": "6688836b",
   "metadata": {
    "scrolled": true
   },
   "outputs": [
    {
     "data": {
      "text/plain": [
       "Country Name\n",
       "Palau                        60.000000\n",
       "Guernsey                     56.250000\n",
       "Sint Maarten (Dutch part)    55.555556\n",
       "Saint Lucia                  55.555556\n",
       "Mayotte                      53.846154\n",
       "                               ...    \n",
       "Togo                         17.391304\n",
       "Andorra                      14.285714\n",
       "Cocos (Keeling) Islands      12.500000\n",
       "Brunei Darussalam            12.500000\n",
       "Guinea-Bissau                10.000000\n",
       "Name: count, Length: 235, dtype: float64"
      ]
     },
     "execution_count": 44,
     "metadata": {},
     "output_type": "execute_result"
    }
   ],
   "source": [
    "test_1 = 100* (counter_5/total_count)\n",
    "test_1.sort_values(ascending = False) # Max percent of delayed departure "
   ]
  },
  {
   "cell_type": "markdown",
   "id": "5d3f258a",
   "metadata": {},
   "source": [
    "### Note- Palau is the country with highest percentage of delays where 60% of flights being delayed anually. But yearly the number of flights is only 5 so this is not a significant result. "
   ]
  },
  {
   "cell_type": "code",
   "execution_count": 45,
   "id": "0df4161a",
   "metadata": {},
   "outputs": [
    {
     "data": {
      "text/plain": [
       "128.0"
      ]
     },
     "execution_count": 45,
     "metadata": {},
     "output_type": "execute_result"
    }
   ],
   "source": [
    "test_2 = test_1.rank().sort_values()\n",
    "test_2[\"United States\"]"
   ]
  },
  {
   "cell_type": "code",
   "execution_count": 68,
   "id": "63bd5806",
   "metadata": {},
   "outputs": [
    {
     "data": {
      "text/plain": [
       "33.365001809627216"
      ]
     },
     "execution_count": 68,
     "metadata": {},
     "output_type": "execute_result"
    }
   ],
   "source": [
    "test_1[\"United States\"]"
   ]
  },
  {
   "cell_type": "markdown",
   "id": "d8b4c496",
   "metadata": {},
   "source": [
    "#### 3.1.2 Number of flights delayed in the US monthly."
   ]
  },
  {
   "cell_type": "code",
   "execution_count": 47,
   "id": "74178b9e",
   "metadata": {},
   "outputs": [],
   "source": [
    "us_delay = df['Month'].loc[(cond_3) & (df[\"Country Name\"] == \"United States\") ].value_counts()\n"
   ]
  },
  {
   "cell_type": "code",
   "execution_count": 78,
   "id": "a94009ea",
   "metadata": {},
   "outputs": [
    {
     "data": {
      "text/plain": [
       "Text(0.5, 1.0, 'Monthly flights delay-USA')"
      ]
     },
     "execution_count": 78,
     "metadata": {},
     "output_type": "execute_result"
    },
    {
     "data": {
      "image/png": "[encoded data removed]",
      "text/plain": [
       "<Figure size 640x480 with 1 Axes>"
      ]
     },
     "metadata": {},
     "output_type": "display_data"
    }
   ],
   "source": [
    "plt.bar(us_delay.index,us_delay.values,color = [\"r\", \"c\", \"g\", \"y\"] )\n",
    "plt.ylim(500)\n",
    "plt.title(\"Monthly flights delay-USA\")"
   ]
  },
  {
   "cell_type": "markdown",
   "id": "78716c69",
   "metadata": {},
   "source": [
    "#### 3.1.2 Percentage of flight delay in the USA"
   ]
  },
  {
   "cell_type": "code",
   "execution_count": 49,
   "id": "c2c1d3d9",
   "metadata": {},
   "outputs": [
    {
     "data": {
      "text/plain": [
       "Month\n",
       "1     34.143818\n",
       "2     32.634731\n",
       "3     33.952528\n",
       "4     34.114286\n",
       "5     33.869239\n",
       "6     33.259546\n",
       "7     32.844421\n",
       "8     33.564939\n",
       "9     32.926152\n",
       "10    33.245522\n",
       "11    33.674018\n",
       "12    32.019978\n",
       "Name: count, dtype: float64"
      ]
     },
     "execution_count": 49,
     "metadata": {},
     "output_type": "execute_result"
    }
   ],
   "source": [
    "total_count_us = df['Month'].loc[(df[\"Country Name\"] == \"United States\") ].value_counts()\n",
    "100* (us_delay/total_count_us)"
   ]
  },
  {
   "cell_type": "markdown",
   "id": "939b6b4b",
   "metadata": {},
   "source": [
    "#### More than 34% delay in the month of January."
   ]
  },
  {
   "cell_type": "code",
   "execution_count": 88,
   "id": "ff64321e",
   "metadata": {},
   "outputs": [
    {
     "data": {
      "text/plain": [
       "Text(0.5, 1.0, 'Montly flight delay percentage-USA')"
      ]
     },
     "execution_count": 88,
     "metadata": {},
     "output_type": "execute_result"
    },
    {
     "data": {
      "image/png": "[encoded data removed]",
      "text/plain": [
       "<Figure size 640x480 with 1 Axes>"
      ]
     },
     "metadata": {},
     "output_type": "display_data"
    }
   ],
   "source": [
    "test_5 = 100*(us_delay/total_count_us)\n",
    "plt.bar(test_5.index,test_5.values,color = [\"r\", \"c\", \"g\", \"y\"] )\n",
    "plt.ylim(25)\n",
    "plt.title(\"Montly flight delay percentage-USA\")"
   ]
  },
  {
   "cell_type": "code",
   "execution_count": 67,
   "id": "4fc061dd",
   "metadata": {},
   "outputs": [
    {
     "data": {
      "text/plain": [
       "Month\n",
       "3     1938\n",
       "1     1933\n",
       "7     1909\n",
       "10    1898\n",
       "8     1871\n",
       "5     1866\n",
       "11    1859\n",
       "6     1807\n",
       "12    1802\n",
       "9     1801\n",
       "4     1750\n",
       "2     1670\n",
       "Name: count, dtype: int64"
      ]
     },
     "execution_count": 67,
     "metadata": {},
     "output_type": "execute_result"
    }
   ],
   "source": [
    "total_count_us"
   ]
  },
  {
   "cell_type": "code",
   "execution_count": 66,
   "id": "f5545620",
   "metadata": {},
   "outputs": [
    {
     "data": {
      "text/plain": [
       "(1400.0, 2034.9)"
      ]
     },
     "execution_count": 66,
     "metadata": {},
     "output_type": "execute_result"
    },
    {
     "data": {
      "image/png": "[encoded data removed]",
      "text/plain": [
       "<Figure size 640x480 with 1 Axes>"
      ]
     },
     "metadata": {},
     "output_type": "display_data"
    }
   ],
   "source": [
    "plt.bar(total_count_us.index,total_count_us.values,color = [\"r\", \"c\", \"g\", \"y\"] )\n",
    "plt.ylim(1400)"
   ]
  },
  {
   "cell_type": "markdown",
   "id": "7b944e9f",
   "metadata": {},
   "source": [
    "### 3.2 Number of cancellations"
   ]
  },
  {
   "cell_type": "code",
   "execution_count": 50,
   "id": "75420992",
   "metadata": {},
   "outputs": [
    {
     "data": {
      "text/plain": [
       "Country Name\n",
       "United States       7281\n",
       "Australia           2131\n",
       "Canada              1875\n",
       "Brazil              1540\n",
       "Papua New Guinea    1336\n",
       "Name: count, dtype: int64"
      ]
     },
     "execution_count": 50,
     "metadata": {},
     "output_type": "execute_result"
    }
   ],
   "source": [
    "total_can = df[\"Country Name\"].loc[cond_4].value_counts()\n",
    "total_can.nlargest(5)"
   ]
  },
  {
   "cell_type": "markdown",
   "id": "5d901895",
   "metadata": {},
   "source": [
    "### Most flight cancelled are from  US only."
   ]
  },
  {
   "cell_type": "markdown",
   "id": "08573e10",
   "metadata": {},
   "source": [
    "### Note :- There is only 66% chance that the flight that you are catching from US is not cancelled. 1 out of every 3 flight gets cancelled and only 1 out of 3 flies on time."
   ]
  },
  {
   "cell_type": "code",
   "execution_count": 71,
   "id": "bb5b87f8",
   "metadata": {},
   "outputs": [
    {
     "data": {
      "text/plain": [
       "Country Name\n",
       "Afghanistan          36.827957\n",
       "Albania              41.666667\n",
       "Algeria              33.630290\n",
       "American Samoa       46.666667\n",
       "Andorra              57.142857\n",
       "                       ...    \n",
       "Wallis and Futuna    23.529412\n",
       "Western Sahara       30.769231\n",
       "Yemen                33.870968\n",
       "Zambia               30.630631\n",
       "Zimbabwe             27.027027\n",
       "Name: count, Length: 235, dtype: float64"
      ]
     },
     "execution_count": 71,
     "metadata": {},
     "output_type": "execute_result"
    }
   ],
   "source": [
    "test_3 = 100* (total_can/total_count)\n",
    "test_3 # Max percent of delayed departure "
   ]
  },
  {
   "cell_type": "code",
   "execution_count": 77,
   "id": "812c5bc5",
   "metadata": {},
   "outputs": [
    {
     "data": {
      "text/plain": [
       "(500.0, 676.2)"
      ]
     },
     "execution_count": 77,
     "metadata": {},
     "output_type": "execute_result"
    },
    {
     "data": {
      "image/png": "[encoded data removed]",
      "text/plain": [
       "<Figure size 640x480 with 1 Axes>"
      ]
     },
     "metadata": {},
     "output_type": "display_data"
    }
   ],
   "source": [
    "us_can = df['Month'].loc[(cond_4) & (df[\"Country Name\"] == \"United States\") ].value_counts()\n",
    "plt.bar(us_can.index,us_can.values,color = [\"r\", \"c\", \"g\", \"y\"] )\n",
    "plt.title(\"Monthly flight cancellation-USA\")\n",
    "plt.ylim(500)"
   ]
  },
  {
   "cell_type": "code",
   "execution_count": 80,
   "id": "7b917119",
   "metadata": {},
   "outputs": [
    {
     "data": {
      "text/plain": [
       "Month\n",
       "1     32.540093\n",
       "2     34.550898\n",
       "3     31.630547\n",
       "4     33.371429\n",
       "5     31.136120\n",
       "6     33.093525\n",
       "7     32.215820\n",
       "8     32.282202\n",
       "9     34.036646\n",
       "10    32.929399\n",
       "11    32.167832\n",
       "12    35.738069\n",
       "Name: count, dtype: float64"
      ]
     },
     "execution_count": 80,
     "metadata": {},
     "output_type": "execute_result"
    }
   ],
   "source": [
    "test_4 = 100*(us_can/total_count_us)\n",
    "test_4"
   ]
  },
  {
   "cell_type": "code",
   "execution_count": 84,
   "id": "90dfbef1",
   "metadata": {},
   "outputs": [
    {
     "data": {
      "text/plain": [
       "(25.0, 40.0)"
      ]
     },
     "execution_count": 84,
     "metadata": {},
     "output_type": "execute_result"
    },
    {
     "data": {
      "image/png": "[encoded data removed]",
      "text/plain": [
       "<Figure size 640x480 with 1 Axes>"
      ]
     },
     "metadata": {},
     "output_type": "display_data"
    }
   ],
   "source": [
    "plt.bar(test_4.index, test_4.values, color = [\"r\", \"c\", \"g\", \"y\"] )\n",
    "plt.title(\"Monthly flight cancellation percentage-USA\")\n",
    "plt.ylim(25,40)"
   ]
  },
  {
   "cell_type": "code",
   "execution_count": null,
   "id": "2297bff7",
   "metadata": {},
   "outputs": [],
   "source": []
  },
  {
   "cell_type": "code",
   "execution_count": null,
   "id": "20268a76",
   "metadata": {},
   "outputs": [],
   "source": []
  }
 ],
 "metadata": {
  "kernelspec": {
   "display_name": "Python 3 (ipykernel)",
   "language": "python",
   "name": "python3"
  },
  "language_info": {
   "codemirror_mode": {
    "name": "ipython",
    "version": 3
   },
   "file_extension": ".py",
   "mimetype": "text/x-python",
   "name": "python",
   "nbconvert_exporter": "python",
   "pygments_lexer": "ipython3",
   "version": "3.11.5"
  }
 },
 "nbformat": 4,
 "nbformat_minor": 5
}
